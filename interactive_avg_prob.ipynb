{
 "cells": [
  {
   "cell_type": "markdown",
   "id": "d4df45b7-eb48-475b-bc85-237c31d021db",
   "metadata": {
    "tags": []
   },
   "source": [
    "# Creating Interactive Plots for Heatmaps of Avg. Probability vs Class and Time"
   ]
  },
  {
   "cell_type": "markdown",
   "id": "b6e61475-21af-4bdd-9d6e-a08f63ac8df6",
   "metadata": {},
   "source": [
    "### Objective: To display the average probability vs. class and time as a heat map that uses the interactive tools provided by Bokeh with the hopes of making the data more visually appealing and easily accessible."
   ]
  },
  {
   "cell_type": "markdown",
   "id": "a9f291fe-2604-4998-a0ad-f55a077b9869",
   "metadata": {},
   "source": [
    "# Imports"
   ]
  },
  {
   "cell_type": "code",
   "execution_count": 27,
   "id": "56f2ff7e-228e-4400-890d-1d27dac590a2",
   "metadata": {},
   "outputs": [
    {
     "data": {
      "text/html": [
       "<style>\n",
       "        .bk-notebook-logo {\n",
       "            display: block;\n",
       "            width: 20px;\n",
       "            height: 20px;\n",
       "            background-image: url(data:image/png;base64,iVBORw0KGgoAAAANSUhEUgAAABQAAAAUCAYAAACNiR0NAAAABHNCSVQICAgIfAhkiAAAAAlwSFlzAAALEgAACxIB0t1+/AAAABx0RVh0U29mdHdhcmUAQWRvYmUgRmlyZXdvcmtzIENTNui8sowAAAOkSURBVDiNjZRtaJVlGMd/1/08zzln5zjP1LWcU9N0NkN8m2CYjpgQYQXqSs0I84OLIC0hkEKoPtiH3gmKoiJDU7QpLgoLjLIQCpEsNJ1vqUOdO7ppbuec5+V+rj4ctwzd8IIbbi6u+8f1539dt3A78eXC7QizUF7gyV1fD1Yqg4JWz84yffhm0qkFqBogB9rM8tZdtwVsPUhWhGcFJngGeWrPzHm5oaMmkfEg1usvLFyc8jLRqDOMru7AyC8saQr7GG7f5fvDeH7Ej8CM66nIF+8yngt6HWaKh7k49Soy9nXurCi1o3qUbS3zWfrYeQDTB/Qj6kX6Ybhw4B+bOYoLKCC9H3Nu/leUTZ1JdRWkkn2ldcCamzrcf47KKXdAJllSlxAOkRgyHsGC/zRday5Qld9DyoM4/q/rUoy/CXh3jzOu3bHUVZeU+DEn8FInkPBFlu3+nW3Nw0mk6vCDiWg8CeJaxEwuHS3+z5RgY+YBR6V1Z1nxSOfoaPa4LASWxxdNp+VWTk7+4vzaou8v8PN+xo+KY2xsw6une2frhw05CTYOmQvsEhjhWjn0bmXPjpE1+kplmmkP3suftwTubK9Vq22qKmrBhpY4jvd5afdRA3wGjFAgcnTK2s4hY0/GPNIb0nErGMCRxWOOX64Z8RAC4oCXdklmEvcL8o0BfkNK4lUg9HTl+oPlQxdNo3Mg4Nv175e/1LDGzZen30MEjRUtmXSfiTVu1kK8W4txyV6BMKlbgk3lMwYCiusNy9fVfvvwMxv8Ynl6vxoByANLTWplvuj/nF9m2+PDtt1eiHPBr1oIfhCChQMBw6Aw0UulqTKZdfVvfG7VcfIqLG9bcldL/+pdWTLxLUy8Qq38heUIjh4XlzZxzQm19lLFlr8vdQ97rjZVOLf8nclzckbcD4wxXMidpX30sFd37Fv/GtwwhzhxGVAprjbg0gCAEeIgwCZyTV2Z1REEW8O4py0wsjeloKoMr6iCY6dP92H6Vw/oTyICIthibxjm/DfN9lVz8IqtqKYLUXfoKVMVQVVJOElGjrnnUt9T9wbgp8AyYKaGlqingHZU/uG2NTZSVqwHQTWkx9hxjkpWDaCg6Ckj5qebgBVbT3V3NNXMSiWSDdGV3hrtzla7J+duwPOToIg42ChPQOQjspnSlp1V+Gjdged7+8UN5CRAV7a5EdFNwCjEaBR27b3W890TE7g24NAP/mMDXRWrGoFPQI9ls/MWO2dWFAar/xcOIImbbpA3zgAAAABJRU5ErkJggg==);\n",
       "        }\n",
       "    </style>\n",
       "    <div>\n",
       "        <a href=\"https://bokeh.org\" target=\"_blank\" class=\"bk-notebook-logo\"></a>\n",
       "        <span id=\"p3305\">Loading BokehJS ...</span>\n",
       "    </div>\n"
      ]
     },
     "metadata": {},
     "output_type": "display_data"
    },
    {
     "data": {
      "application/javascript": "(function(root) {\n  function now() {\n    return new Date();\n  }\n\n  const force = true;\n\n  if (typeof root._bokeh_onload_callbacks === \"undefined\" || force === true) {\n    root._bokeh_onload_callbacks = [];\n    root._bokeh_is_loading = undefined;\n  }\n\nconst JS_MIME_TYPE = 'application/javascript';\n  const HTML_MIME_TYPE = 'text/html';\n  const EXEC_MIME_TYPE = 'application/vnd.bokehjs_exec.v0+json';\n  const CLASS_NAME = 'output_bokeh rendered_html';\n\n  /**\n   * Render data to the DOM node\n   */\n  function render(props, node) {\n    const script = document.createElement(\"script\");\n    node.appendChild(script);\n  }\n\n  /**\n   * Handle when an output is cleared or removed\n   */\n  function handleClearOutput(event, handle) {\n    const cell = handle.cell;\n\n    const id = cell.output_area._bokeh_element_id;\n    const server_id = cell.output_area._bokeh_server_id;\n    // Clean up Bokeh references\n    if (id != null && id in Bokeh.index) {\n      Bokeh.index[id].model.document.clear();\n      delete Bokeh.index[id];\n    }\n\n    if (server_id !== undefined) {\n      // Clean up Bokeh references\n      const cmd_clean = \"from bokeh.io.state import curstate; print(curstate().uuid_to_server['\" + server_id + \"'].get_sessions()[0].document.roots[0]._id)\";\n      cell.notebook.kernel.execute(cmd_clean, {\n        iopub: {\n          output: function(msg) {\n            const id = msg.content.text.trim();\n            if (id in Bokeh.index) {\n              Bokeh.index[id].model.document.clear();\n              delete Bokeh.index[id];\n            }\n          }\n        }\n      });\n      // Destroy server and session\n      const cmd_destroy = \"import bokeh.io.notebook as ion; ion.destroy_server('\" + server_id + \"')\";\n      cell.notebook.kernel.execute(cmd_destroy);\n    }\n  }\n\n  /**\n   * Handle when a new output is added\n   */\n  function handleAddOutput(event, handle) {\n    const output_area = handle.output_area;\n    const output = handle.output;\n\n    // limit handleAddOutput to display_data with EXEC_MIME_TYPE content only\n    if ((output.output_type != \"display_data\") || (!Object.prototype.hasOwnProperty.call(output.data, EXEC_MIME_TYPE))) {\n      return\n    }\n\n    const toinsert = output_area.element.find(\".\" + CLASS_NAME.split(' ')[0]);\n\n    if (output.metadata[EXEC_MIME_TYPE][\"id\"] !== undefined) {\n      toinsert[toinsert.length - 1].firstChild.textContent = output.data[JS_MIME_TYPE];\n      // store reference to embed id on output_area\n      output_area._bokeh_element_id = output.metadata[EXEC_MIME_TYPE][\"id\"];\n    }\n    if (output.metadata[EXEC_MIME_TYPE][\"server_id\"] !== undefined) {\n      const bk_div = document.createElement(\"div\");\n      bk_div.innerHTML = output.data[HTML_MIME_TYPE];\n      const script_attrs = bk_div.children[0].attributes;\n      for (let i = 0; i < script_attrs.length; i++) {\n        toinsert[toinsert.length - 1].firstChild.setAttribute(script_attrs[i].name, script_attrs[i].value);\n        toinsert[toinsert.length - 1].firstChild.textContent = bk_div.children[0].textContent\n      }\n      // store reference to server id on output_area\n      output_area._bokeh_server_id = output.metadata[EXEC_MIME_TYPE][\"server_id\"];\n    }\n  }\n\n  function register_renderer(events, OutputArea) {\n\n    function append_mime(data, metadata, element) {\n      // create a DOM node to render to\n      const toinsert = this.create_output_subarea(\n        metadata,\n        CLASS_NAME,\n        EXEC_MIME_TYPE\n      );\n      this.keyboard_manager.register_events(toinsert);\n      // Render to node\n      const props = {data: data, metadata: metadata[EXEC_MIME_TYPE]};\n      render(props, toinsert[toinsert.length - 1]);\n      element.append(toinsert);\n      return toinsert\n    }\n\n    /* Handle when an output is cleared or removed */\n    events.on('clear_output.CodeCell', handleClearOutput);\n    events.on('delete.Cell', handleClearOutput);\n\n    /* Handle when a new output is added */\n    events.on('output_added.OutputArea', handleAddOutput);\n\n    /**\n     * Register the mime type and append_mime function with output_area\n     */\n    OutputArea.prototype.register_mime_type(EXEC_MIME_TYPE, append_mime, {\n      /* Is output safe? */\n      safe: true,\n      /* Index of renderer in `output_area.display_order` */\n      index: 0\n    });\n  }\n\n  // register the mime type if in Jupyter Notebook environment and previously unregistered\n  if (root.Jupyter !== undefined) {\n    const events = require('base/js/events');\n    const OutputArea = require('notebook/js/outputarea').OutputArea;\n\n    if (OutputArea.prototype.mime_types().indexOf(EXEC_MIME_TYPE) == -1) {\n      register_renderer(events, OutputArea);\n    }\n  }\n  if (typeof (root._bokeh_timeout) === \"undefined\" || force === true) {\n    root._bokeh_timeout = Date.now() + 5000;\n    root._bokeh_failed_load = false;\n  }\n\n  const NB_LOAD_WARNING = {'data': {'text/html':\n     \"<div style='background-color: #fdd'>\\n\"+\n     \"<p>\\n\"+\n     \"BokehJS does not appear to have successfully loaded. If loading BokehJS from CDN, this \\n\"+\n     \"may be due to a slow or bad network connection. Possible fixes:\\n\"+\n     \"</p>\\n\"+\n     \"<ul>\\n\"+\n     \"<li>re-rerun `output_notebook()` to attempt to load from CDN again, or</li>\\n\"+\n     \"<li>use INLINE resources instead, as so:</li>\\n\"+\n     \"</ul>\\n\"+\n     \"<code>\\n\"+\n     \"from bokeh.resources import INLINE\\n\"+\n     \"output_notebook(resources=INLINE)\\n\"+\n     \"</code>\\n\"+\n     \"</div>\"}};\n\n  function display_loaded() {\n    const el = document.getElementById(\"p3305\");\n    if (el != null) {\n      el.textContent = \"BokehJS is loading...\";\n    }\n    if (root.Bokeh !== undefined) {\n      if (el != null) {\n        el.textContent = \"BokehJS \" + root.Bokeh.version + \" successfully loaded.\";\n      }\n    } else if (Date.now() < root._bokeh_timeout) {\n      setTimeout(display_loaded, 100)\n    }\n  }\n\n  function run_callbacks() {\n    try {\n      root._bokeh_onload_callbacks.forEach(function(callback) {\n        if (callback != null)\n          callback();\n      });\n    } finally {\n      delete root._bokeh_onload_callbacks\n    }\n    console.debug(\"Bokeh: all callbacks have finished\");\n  }\n\n  function load_libs(css_urls, js_urls, callback) {\n    if (css_urls == null) css_urls = [];\n    if (js_urls == null) js_urls = [];\n\n    root._bokeh_onload_callbacks.push(callback);\n    if (root._bokeh_is_loading > 0) {\n      console.debug(\"Bokeh: BokehJS is being loaded, scheduling callback at\", now());\n      return null;\n    }\n    if (js_urls == null || js_urls.length === 0) {\n      run_callbacks();\n      return null;\n    }\n    console.debug(\"Bokeh: BokehJS not loaded, scheduling load and callback at\", now());\n    root._bokeh_is_loading = css_urls.length + js_urls.length;\n\n    function on_load() {\n      root._bokeh_is_loading--;\n      if (root._bokeh_is_loading === 0) {\n        console.debug(\"Bokeh: all BokehJS libraries/stylesheets loaded\");\n        run_callbacks()\n      }\n    }\n\n    function on_error(url) {\n      console.error(\"failed to load \" + url);\n    }\n\n    for (let i = 0; i < css_urls.length; i++) {\n      const url = css_urls[i];\n      const element = document.createElement(\"link\");\n      element.onload = on_load;\n      element.onerror = on_error.bind(null, url);\n      element.rel = \"stylesheet\";\n      element.type = \"text/css\";\n      element.href = url;\n      console.debug(\"Bokeh: injecting link tag for BokehJS stylesheet: \", url);\n      document.body.appendChild(element);\n    }\n\n    for (let i = 0; i < js_urls.length; i++) {\n      const url = js_urls[i];\n      const element = document.createElement('script');\n      element.onload = on_load;\n      element.onerror = on_error.bind(null, url);\n      element.async = false;\n      element.src = url;\n      console.debug(\"Bokeh: injecting script tag for BokehJS library: \", url);\n      document.head.appendChild(element);\n    }\n  };\n\n  function inject_raw_css(css) {\n    const element = document.createElement(\"style\");\n    element.appendChild(document.createTextNode(css));\n    document.body.appendChild(element);\n  }\n\n  const js_urls = [\"https://cdn.bokeh.org/bokeh/release/bokeh-3.1.0.min.js\", \"https://cdn.bokeh.org/bokeh/release/bokeh-gl-3.1.0.min.js\", \"https://cdn.bokeh.org/bokeh/release/bokeh-widgets-3.1.0.min.js\", \"https://cdn.bokeh.org/bokeh/release/bokeh-tables-3.1.0.min.js\", \"https://cdn.bokeh.org/bokeh/release/bokeh-mathjax-3.1.0.min.js\"];\n  const css_urls = [];\n\n  const inline_js = [    function(Bokeh) {\n      Bokeh.set_log_level(\"info\");\n    },\nfunction(Bokeh) {\n    }\n  ];\n\n  function run_inline_js() {\n    if (root.Bokeh !== undefined || force === true) {\n          for (let i = 0; i < inline_js.length; i++) {\n      inline_js[i].call(root, root.Bokeh);\n    }\nif (force === true) {\n        display_loaded();\n      }} else if (Date.now() < root._bokeh_timeout) {\n      setTimeout(run_inline_js, 100);\n    } else if (!root._bokeh_failed_load) {\n      console.log(\"Bokeh: BokehJS failed to load within specified timeout.\");\n      root._bokeh_failed_load = true;\n    } else if (force !== true) {\n      const cell = $(document.getElementById(\"p3305\")).parents('.cell').data().cell;\n      cell.output_area.append_execute_result(NB_LOAD_WARNING)\n    }\n  }\n\n  if (root._bokeh_is_loading === 0) {\n    console.debug(\"Bokeh: BokehJS loaded, going straight to plotting\");\n    run_inline_js();\n  } else {\n    load_libs(css_urls, js_urls, function() {\n      console.debug(\"Bokeh: BokehJS plotting callback run at\", now());\n      run_inline_js();\n    });\n  }\n}(window));",
      "application/vnd.bokehjs_load.v0+json": ""
     },
     "metadata": {},
     "output_type": "display_data"
    }
   ],
   "source": [
    "%matplotlib inline\n",
    "import sys\n",
    "import os\n",
    "import requests\n",
    "import datetime\n",
    "import dateutil.parser\n",
    "import logging\n",
    "import json\n",
    "import numpy\n",
    "import pandas\n",
    "import matplotlib\n",
    "from matplotlib import pyplot\n",
    "import seaborn\n",
    "import sklearn\n",
    "import sklearn.metrics\n",
    "import numpy as np\n",
    "from bokeh.models import ColumnDataSource, CustomJS, Range1d, Select, Dropdown, LabelSet, ColorBar, LinearColorMapper\n",
    "from bokeh.plotting import figure, output_notebook, show, output_file, save\n",
    "from bokeh.palettes import Sunset11, Magma256\n",
    "from bokeh.layouts import column\n",
    "output_notebook()"
   ]
  },
  {
   "cell_type": "code",
   "execution_count": 28,
   "id": "b91e7ac4-553b-41e6-805b-32aa2ee0cbc2",
   "metadata": {},
   "outputs": [],
   "source": [
    "path_to_elasticc_metrics = '/astro/users/joseph02/elasticc_metrics'"
   ]
  },
  {
   "cell_type": "code",
   "execution_count": 29,
   "id": "874044c1-7924-41a7-b854-37634a7c5dab",
   "metadata": {},
   "outputs": [],
   "source": [
    "sys.path.append(path_to_elasticc_metrics)"
   ]
  },
  {
   "cell_type": "code",
   "execution_count": 30,
   "id": "9bc1cb70-914d-471f-849d-6259efe9441e",
   "metadata": {},
   "outputs": [],
   "source": [
    "from metric_querier import ELAsTiCCMetricsQuerier "
   ]
  },
  {
   "cell_type": "markdown",
   "id": "9f295089-1b32-44fd-8618-3d9ba7782f09",
   "metadata": {},
   "source": [
    "Note that for this last import, ensure that the path to your respective folder in which you're running this notebook is correct."
   ]
  },
  {
   "cell_type": "markdown",
   "id": "cb0c1485-1b12-4e1b-9ec7-e7f9f93e9bd2",
   "metadata": {},
   "source": [
    "# Account Logistics"
   ]
  },
  {
   "cell_type": "markdown",
   "id": "0f1e3abd-e1c2-41d4-ad12-7002e2481c30",
   "metadata": {},
   "source": [
    "To perform needed queries, talk to rob knop (raknop@lbl.gov) about setting up an account."
   ]
  },
  {
   "cell_type": "code",
   "execution_count": 31,
   "id": "27c2781f-38a7-47cf-8e40-eac27142e7c7",
   "metadata": {},
   "outputs": [],
   "source": [
    "logger = logging.getLogger(__name__)\n",
    "if not logger.hasHandlers():\n",
    "    _logout = logging.StreamHandler( sys.stderr )\n",
    "    logger.addHandler( _logout )\n",
    "    _formatter = logging.Formatter( f'[%(asctime)s - %(levelname)s] - %(message)s', datefmt='%Y-%m-%d %H:%M:%S' )\n",
    "    _logout.setFormatter( _formatter )\n",
    "\n",
    "logger.setLevel( logging.DEBUG )"
   ]
  },
  {
   "cell_type": "code",
   "execution_count": 32,
   "id": "3d543f4b-68e8-4daf-9664-aa184ffa7c0b",
   "metadata": {},
   "outputs": [],
   "source": [
    "username = \"josephy\"\n",
    "with open( os.path.join(os.getenv(\"HOME\"), \"josephy_passwd.txt\")) as ifp:\n",
    "    password = ifp.readline().strip()\n",
    "    \n",
    "emq = ELAsTiCCMetricsQuerier( tomusername=username, tompasswd=password, logger=logger )"
   ]
  },
  {
   "cell_type": "markdown",
   "id": "edaa20a4-8595-461d-b524-c7581c460187",
   "metadata": {},
   "source": [
    "# Loading in data"
   ]
  },
  {
   "cell_type": "code",
   "execution_count": 33,
   "id": "c57dfc78-aae8-4cf9-9cd9-ca2e1936b09c",
   "metadata": {},
   "outputs": [
    {
     "name": "stderr",
     "output_type": "stream",
     "text": [
      "[2023-06-06 14:15:25 - DEBUG] - Sending query to get probabilistic metrics histogram table\n",
      "[2023-06-06 14:15:40 - DEBUG] - Got response, pandifying\n",
      "[2023-06-06 14:15:44 - DEBUG] - Done\n"
     ]
    }
   ],
   "source": [
    "probhist = emq.probhist()"
   ]
  },
  {
   "cell_type": "markdown",
   "id": "1a2d8562-4e34-4aef-b541-f17cf113a5b6",
   "metadata": {},
   "source": [
    "We recommend saving `probhist` as a csv file for easy access later on (e.g. `probhist.to_csv('probhist.csv')`)."
   ]
  },
  {
   "cell_type": "markdown",
   "id": "075f529e-5825-4ff1-a297-ff0a6a92c995",
   "metadata": {},
   "source": [
    "Load in the histogram table. Run `help(ELAsTiCCMetricsQuerier)` to get more details on the \n",
    "contents of the table above."
   ]
  },
  {
   "cell_type": "markdown",
   "id": "3baa85a0-6ae3-4a6b-bea0-af6d16f5183c",
   "metadata": {},
   "source": [
    "# Define our Classifier and True Classes"
   ]
  },
  {
   "cell_type": "code",
   "execution_count": 36,
   "id": "5b4b8a78-b5c8-465a-b57e-60012170a25c",
   "metadata": {},
   "outputs": [
    {
     "name": "stdout",
     "output_type": "stream",
     "text": [
      "Going to do classifiers: [40, 89, 44]\n",
      "Going to do classes: ['Ia', 'Ib/c', 'II', 'SLSN']\n"
     ]
    }
   ],
   "source": [
    "cferstodo = [40, 89, 44]\n",
    "trueclasstodo = [ 111, 112, 113, 131 ]\n",
    "print( f\"Going to do classifiers: {cferstodo}\" )\n",
    "print( f\"Going to do classes: {[emq.classname[i] for i in trueclasstodo]}\" )"
   ]
  },
  {
   "cell_type": "markdown",
   "id": "22c9293c-e348-4a52-b1bb-40a45e84b267",
   "metadata": {},
   "source": [
    "In this notebook we only use one classifier at a time. "
   ]
  },
  {
   "cell_type": "code",
   "execution_count": 37,
   "id": "1042e335-02db-4f08-a7d2-b942d0057f01",
   "metadata": {},
   "outputs": [
    {
     "name": "stderr",
     "output_type": "stream",
     "text": [
      "[2023-06-06 14:15:44 - DEBUG] - doing cfer 40, true class Ia\n",
      "[2023-06-06 14:15:45 - DEBUG] - doing cfer 40, true class Ib/c\n",
      "[2023-06-06 14:15:45 - DEBUG] - doing cfer 40, true class II\n",
      "[2023-06-06 14:15:45 - DEBUG] - doing cfer 40, true class SLSN\n"
     ]
    }
   ],
   "source": [
    "trueClassResults = {}\n",
    "for cfer in cferstodo[:1]:\n",
    "    brokername = emq.classifier_info[cfer]['brokerName']\n",
    "    brokerversion = emq.classifier_info[cfer]['brokerVersion']\n",
    "    classifiername = emq.classifier_info[cfer]['classifierName']\n",
    "    classifierparams = emq.classifier_info[cfer]['classifierParams']\n",
    "    cfertitle = f'{brokername} {brokerversion} {classifiername} {classifierparams}'\n",
    "    for trueclass in trueclasstodo:\n",
    "        logger.debug( f\"doing cfer {cfer}, true class {emq.classname[trueclass]}\" )\n",
    "        title = f\"True Class {emq.classname[trueclass]} for {cfertitle}\"\n",
    "        subdf = probhist.xs( ( cfer, trueclass ), level=( 'classifierId', 'trueClassId' ) )\n",
    "        probdf = subdf / subdf.groupby( ['classId', 'tbin'] ).sum()\n",
    "        probdf.reset_index( inplace=True )\n",
    "        probdf.set_index( ['tbin', 'probbin', 'classId'], inplace=True )\n",
    "        # logger.debug( f\"Before filling in missing indexes, len(probhist) = {len(probhist)}\" )\n",
    "        # Fill in missing indexes with 0s.  This is a bit slow (takes a couple of seconds each time).\n",
    "        # new_indices = pandas.MultiIndex.from_product( [ range( 0, emq.tbin_num+2 ), range( 0, emq.probbin_num+2 ), \n",
    "        #                                                 probdf.index.get_level_values('classId') ] )\n",
    "        # probdf.reindex( new_indices, fill_value=0. )\n",
    "        # logger.debug( f\"After filling in missing indexes, len(probhist) = {len(probhist)}\" )\n",
    "        # Fill in the probability values associated with the bins\n",
    "        probdf['prob'] = emq.probbin_val( probdf.reset_index()['probbin'] )\n",
    "        # HACK ALERT.  There's this issue with the histogramming.  Probably (but not certainly) lots\n",
    "        # of the things that show up in probbin=1 are really 0 probabilities reported by the brokers,\n",
    "        # but now that we've binned it we're going to treat it as 0.025.  Big deal, you say, until\n",
    "        # you realize that there might be 15 classes that all were given 0 probability by a\n",
    "        # broker, and now you've got an extra 15*0.025=0.625 of probability that's not real!  So, \n",
    "        # we're going to make the rash assumption that the probability value associated with \n",
    "        # probbin=1 is 0, not 2.5%, which is wrong, but hopefully less wrong than a direct\n",
    "        # interpretation of the histogram.\n",
    "        probdf.loc[ pandas.IndexSlice[ :, 1, : ] ] = 0.\n",
    "        # Don't need probbin any more\n",
    "        probdf.reset_index( inplace=True )\n",
    "        probdf.drop( [ 'probbin' ] , axis=1, inplace=True )\n",
    "        probdf.set_index( [ 'tbin', 'classId' ], inplace=True )\n",
    "        \n",
    "        # Finally, combine things together to get a total probability\n",
    "        #   as a function of classId and tbin\n",
    "        probdf['prob'] *= probdf['count']\n",
    "        probdf.drop( [ 'count' ], axis=1, inplace=True )\n",
    "        probdf = probdf.groupby( [ 'tbin', 'classId' ] ).apply( sum )\n",
    "\n",
    "        # To check how much probability we've lost with our assuming probbin1 is 0 probability,\n",
    "        # do probdf.groupby(['tbin']).sum()\n",
    "\n",
    "        # Fill in the missing tbins\n",
    "        # logger.debug( f\"Before fliling in missing tbins, len(probdf) = {len(probdf)}\" )\n",
    "        new_indices = pandas.MultiIndex.from_product( [ range(0, emq.tbin_num+2), probdf.index.get_level_values( 'classId' ) ] )\n",
    "        probdf.reindex( new_indices, fill_value=0. )\n",
    "        # logger.debug( f\"After filling in missing tbins, len(probdf) = {len(probdf)}\" )\n",
    "        trueClassResults[emq.classname[trueclass]] = probdf"
   ]
  },
  {
   "cell_type": "markdown",
   "id": "8ba80009-e295-484a-bad0-bb0347148b27",
   "metadata": {
    "tags": []
   },
   "source": [
    "## Initial Attempt at Plotting trueClassResults "
   ]
  },
  {
   "cell_type": "markdown",
   "id": "9f6854dc-19d1-4ce4-ba96-c76b4bdebce4",
   "metadata": {},
   "source": [
    "The two cells below manually organizes the data for the plot. We take the binned data and turn into a 2d matrix of time versus class which we plot as a heat map."
   ]
  },
  {
   "cell_type": "code",
   "execution_count": 38,
   "id": "6d2f8f4b-03be-4930-b4a5-5cfd6aea8dcd",
   "metadata": {},
   "outputs": [],
   "source": [
    "probdf = trueClassResults['SLSN']\n",
    "prob2df = trueClassResults['II']\n",
    "prob3df = trueClassResults['Ib/c']\n",
    "prob4df = trueClassResults['Ia']"
   ]
  },
  {
   "cell_type": "code",
   "execution_count": 39,
   "id": "bd1a5bac-cf90-4bd3-a9b6-37cc205d8d46",
   "metadata": {},
   "outputs": [
    {
     "name": "stdout",
     "output_type": "stream",
     "text": [
      "                  prob\n",
      "tbin classId          \n",
      "0    110      0.003388\n",
      "     111      0.006016\n",
      "     112      0.019934\n",
      "     113      0.149386\n",
      "     114      0.032940\n",
      "...                ...\n",
      "27   213      0.000001\n",
      "     214      0.000006\n",
      "     215      0.000000\n",
      "     220      0.000000\n",
      "     221      0.005942\n",
      "\n",
      "[700 rows x 1 columns]\n"
     ]
    }
   ],
   "source": [
    "print(probdf)"
   ]
  },
  {
   "cell_type": "code",
   "execution_count": 40,
   "id": "d9ed83b0-a125-4a83-85d9-4b42cba56953",
   "metadata": {},
   "outputs": [],
   "source": [
    "grid_tab = pandas.pivot_table(probdf,values=\"prob\", columns=\"tbin\", index=\"classId\")\n",
    "grid_tab2 = pandas.pivot_table(prob2df,values=\"prob\", columns=\"tbin\", index=\"classId\")\n",
    "grid_tab3 = pandas.pivot_table(prob3df,values=\"prob\", columns=\"tbin\", index=\"classId\" )\n",
    "grid_tab4 = pandas.pivot_table(prob4df,values=\"prob\", columns=\"tbin\", index=\"classId\" )"
   ]
  },
  {
   "cell_type": "markdown",
   "id": "82d8457c-dee2-444b-8736-8e4770480826",
   "metadata": {},
   "source": [
    "The following print statement is merely to provide a better understanding as to what `grid_tab` is."
   ]
  },
  {
   "cell_type": "code",
   "execution_count": 41,
   "id": "4328f9a2-ea32-4900-94b5-b3ab468814e8",
   "metadata": {},
   "outputs": [
    {
     "name": "stdout",
     "output_type": "stream",
     "text": [
      "tbin           0         1         2         3         4         5         6    \n",
      "classId                                                                         \n",
      "110      0.003388  0.002661  0.002339  0.002052  0.001510  0.001442  0.001128  \\\n",
      "111      0.006016  0.005841  0.004029  0.004079  0.003098  0.002651  0.002253   \n",
      "112      0.019934  0.018960  0.016356  0.015628  0.014062  0.013024  0.011021   \n",
      "113      0.149386  0.153522  0.153344  0.145795  0.146062  0.134648  0.127118   \n",
      "114      0.032940  0.034051  0.033591  0.029859  0.028645  0.024022  0.019391   \n",
      "115      0.000158  0.000188  0.000372  0.000327  0.000210  0.000076  0.000067   \n",
      "120      0.000000  0.000000  0.000000  0.000000  0.000000  0.000000  0.000000   \n",
      "121      0.000028  0.000036  0.000004  0.000085  0.000028  0.000000  0.000000   \n",
      "122      0.000019  0.000012  0.000007  0.000006  0.000003  0.000027  0.000000   \n",
      "123      0.000295  0.000250  0.000070  0.000177  0.000176  0.000153  0.000294   \n",
      "124      0.008435  0.005162  0.004915  0.005270  0.004648  0.003910  0.004788   \n",
      "130      0.000000  0.000000  0.000000  0.000000  0.000000  0.000000  0.000000   \n",
      "131      0.577840  0.603285  0.610030  0.627578  0.644035  0.661060  0.675946   \n",
      "132      0.035590  0.026168  0.026603  0.022832  0.019229  0.017632  0.015221   \n",
      "133      0.003724  0.003712  0.003716  0.003250  0.003183  0.003022  0.002889   \n",
      "134      0.011856  0.015074  0.017396  0.016065  0.017355  0.017216  0.019326   \n",
      "135      0.117046  0.099816  0.095929  0.097812  0.088378  0.092853  0.091081   \n",
      "210      0.000000  0.000000  0.000000  0.000000  0.000000  0.000000  0.000000   \n",
      "211      0.000045  0.000026  0.000033  0.000056  0.000050  0.000035  0.000017   \n",
      "212      0.000276  0.000257  0.000141  0.000229  0.000168  0.000111  0.000121   \n",
      "213      0.000138  0.000098  0.000046  0.000117  0.000081  0.000086  0.000055   \n",
      "214      0.001109  0.000670  0.000421  0.000758  0.000361  0.000455  0.000530   \n",
      "215      0.000000  0.000000  0.000000  0.000000  0.000000  0.000000  0.000000   \n",
      "220      0.000000  0.000000  0.000000  0.000000  0.000000  0.000000  0.000000   \n",
      "221      0.005438  0.005080  0.005878  0.003825  0.004956  0.003891  0.005519   \n",
      "\n",
      "tbin           7         8         9   ...        18        19        20   \n",
      "classId                                ...                                 \n",
      "110      0.001282  0.001018  0.000637  ...  0.000495  0.000725  0.000729  \\\n",
      "111      0.001747  0.001386  0.001451  ...  0.000708  0.000897  0.001004   \n",
      "112      0.010988  0.008511  0.008121  ...  0.006443  0.007043  0.007165   \n",
      "113      0.121597  0.113449  0.106967  ...  0.057210  0.055148  0.050824   \n",
      "114      0.016435  0.014093  0.010893  ...  0.001943  0.001375  0.001695   \n",
      "115      0.000133  0.000066  0.000062  ...  0.000143  0.000128  0.000089   \n",
      "120      0.000000  0.000000  0.000000  ...  0.000000  0.000000  0.000000   \n",
      "121      0.000000  0.000000  0.000000  ...  0.000046  0.000037  0.000000   \n",
      "122      0.000003  0.000000  0.000000  ...  0.000000  0.000010  0.000000   \n",
      "123      0.000283  0.000162  0.000184  ...  0.000015  0.000065  0.000047   \n",
      "124      0.004077  0.004018  0.003784  ...  0.001499  0.001857  0.001262   \n",
      "130      0.000000  0.000000  0.000000  ...  0.000000  0.000000  0.000000   \n",
      "131      0.691976  0.697287  0.710659  ...  0.763856  0.762499  0.765871   \n",
      "132      0.013319  0.012636  0.010628  ...  0.002699  0.002555  0.002416   \n",
      "133      0.003867  0.003849  0.002779  ...  0.003175  0.002543  0.002342   \n",
      "134      0.018187  0.020989  0.021119  ...  0.054865  0.055037  0.055848   \n",
      "135      0.087076  0.093866  0.093523  ...  0.080153  0.082961  0.084367   \n",
      "210      0.000000  0.000000  0.000000  ...  0.000000  0.000000  0.000000   \n",
      "211      0.000024  0.000023  0.000028  ...  0.000011  0.000000  0.000000   \n",
      "212      0.000110  0.000063  0.000061  ...  0.000080  0.000046  0.000005   \n",
      "213      0.000072  0.000077  0.000083  ...  0.000011  0.000010  0.000000   \n",
      "214      0.000423  0.000439  0.000312  ...  0.000098  0.000138  0.000019   \n",
      "215      0.000000  0.000000  0.000000  ...  0.000000  0.000000  0.000000   \n",
      "220      0.000000  0.000000  0.000000  ...  0.000000  0.000000  0.000000   \n",
      "221      0.005134  0.005251  0.006009  ...  0.005030  0.005580  0.004825   \n",
      "\n",
      "tbin           21        22        23        24        25        26   \n",
      "classId                                                               \n",
      "110      0.000594  0.000725  0.000880  0.000572  0.000678  0.000585  \\\n",
      "111      0.001058  0.000986  0.000811  0.000869  0.001746  0.000674   \n",
      "112      0.006452  0.007588  0.008161  0.007878  0.006611  0.007776   \n",
      "113      0.049428  0.046252  0.045078  0.045103  0.039464  0.039427   \n",
      "114      0.001053  0.001307  0.001178  0.001060  0.001000  0.000807   \n",
      "115      0.000265  0.000150  0.000136  0.000149  0.000086  0.000070   \n",
      "120      0.000000  0.000000  0.000000  0.000000  0.000000  0.000000   \n",
      "121      0.000000  0.000031  0.000000  0.000000  0.000000  0.000000   \n",
      "122      0.000000  0.000000  0.000000  0.000000  0.000000  0.000000   \n",
      "123      0.000056  0.000056  0.000092  0.000000  0.000024  0.000000   \n",
      "124      0.000788  0.000810  0.000962  0.000324  0.000540  0.000332   \n",
      "130      0.000000  0.000000  0.000000  0.000000  0.000000  0.000000   \n",
      "131      0.764690  0.765174  0.758096  0.757697  0.760419  0.749514   \n",
      "132      0.002128  0.001432  0.001539  0.001457  0.001553  0.001352   \n",
      "133      0.001688  0.002144  0.002868  0.002487  0.002951  0.002348   \n",
      "134      0.057564  0.062541  0.059518  0.069407  0.068999  0.073534   \n",
      "135      0.085820  0.083817  0.094231  0.087644  0.089394  0.097364   \n",
      "210      0.000000  0.000000  0.000000  0.000000  0.000000  0.000000   \n",
      "211      0.000005  0.000000  0.000000  0.000000  0.000007  0.000000   \n",
      "212      0.000027  0.000005  0.000025  0.000016  0.000070  0.000000   \n",
      "213      0.000010  0.000000  0.000010  0.000000  0.000000  0.000000   \n",
      "214      0.000126  0.000018  0.000027  0.000014  0.000130  0.000000   \n",
      "215      0.000000  0.000000  0.000000  0.000000  0.000000  0.000000   \n",
      "220      0.000000  0.000000  0.000000  0.000000  0.000000  0.000000   \n",
      "221      0.006695  0.005299  0.005178  0.003918  0.004959  0.004892   \n",
      "\n",
      "tbin               27  \n",
      "classId                \n",
      "110      4.895203e-04  \n",
      "111      5.091964e-04  \n",
      "112      6.149708e-03  \n",
      "113      2.183115e-02  \n",
      "114      4.550559e-04  \n",
      "115      9.675107e-05  \n",
      "120      0.000000e+00  \n",
      "121      0.000000e+00  \n",
      "122      3.759757e-07  \n",
      "123      5.790025e-05  \n",
      "124      2.070373e-04  \n",
      "130      0.000000e+00  \n",
      "131      7.577312e-01  \n",
      "132      9.647535e-04  \n",
      "133      2.126769e-03  \n",
      "134      5.945955e-02  \n",
      "135      1.235070e-01  \n",
      "210      0.000000e+00  \n",
      "211      0.000000e+00  \n",
      "212      0.000000e+00  \n",
      "213      1.253252e-06  \n",
      "214      5.514310e-06  \n",
      "215      0.000000e+00  \n",
      "220      0.000000e+00  \n",
      "221      5.942421e-03  \n",
      "\n",
      "[25 rows x 28 columns]\n"
     ]
    }
   ],
   "source": [
    "print(grid_tab)"
   ]
  },
  {
   "cell_type": "markdown",
   "id": "1d660d6a-454a-4859-8c59-3b4892778c07",
   "metadata": {},
   "source": [
    "Now we plot. In order for us to better see the variation in probability, we thought it would be appropriate to stick with the Bokeh palette `Magma256` but run `.reverse()` on a list version of the palette. The results are shown below."
   ]
  },
  {
   "cell_type": "code",
   "execution_count": 42,
   "id": "ab85a7e3-5db7-4b6d-8865-6da18019e6e8",
   "metadata": {},
   "outputs": [
    {
     "data": {
      "text/html": [
       "\n",
       "  <div id=\"7d61b0e6-5b68-4e8f-aa08-5f1afdd69f79\" data-root-id=\"p3404\" style=\"display: contents;\"></div>\n"
      ]
     },
     "metadata": {},
     "output_type": "display_data"
    },
    {
     "data": {
      "application/javascript": "(function(root) {\n  function embed_document(root) {\n  const docs_json = {\"99d5cedd-5ee9-4f48-a437-88b51ae41af2\":{\"version\":\"3.1.0\",\"title\":\"Bokeh Application\",\"defs\":[],\"roots\":[{\"type\":\"object\",\"name\":\"Column\",\"id\":\"p3404\",\"attributes\":{\"children\":[{\"type\":\"object\",\"name\":\"Select\",\"id\":\"p3402\",\"attributes\":{\"js_property_callbacks\":{\"type\":\"map\",\"entries\":[[\"change:value\",[{\"type\":\"object\",\"name\":\"CustomJS\",\"id\":\"p3403\",\"attributes\":{\"args\":{\"type\":\"map\",\"entries\":[[\"plot_dict\",{\"type\":\"map\",\"entries\":[[\"SLSN\",{\"type\":\"object\",\"name\":\"GlyphRenderer\",\"id\":\"p3363\",\"attributes\":{\"level\":\"image\",\"data_source\":{\"type\":\"object\",\"name\":\"ColumnDataSource\",\"id\":\"p3354\",\"attributes\":{\"selected\":{\"type\":\"object\",\"name\":\"Selection\",\"id\":\"p3356\",\"attributes\":{\"indices\":[],\"line_indices\":[]}},\"selection_policy\":{\"type\":\"object\",\"name\":\"UnionRenderers\",\"id\":\"p3355\"},\"data\":{\"type\":\"map\",\"entries\":[[\"image\",[{\"type\":\"ndarray\",\"array\":{\"type\":\"bytes\",\"data\":\"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\"},\"shape\":[25,28],\"dtype\":\"float64\",\"order\":\"little\"}]]]}}},\"view\":{\"type\":\"object\",\"name\":\"CDSView\",\"id\":\"p3364\",\"attributes\":{\"filter\":{\"type\":\"object\",\"name\":\"AllIndices\",\"id\":\"p3365\"}}},\"glyph\":{\"type\":\"object\",\"name\":\"Image\",\"id\":\"p3357\",\"attributes\":{\"x\":{\"type\":\"value\",\"value\":0},\"y\":{\"type\":\"value\",\"value\":0},\"dw\":{\"type\":\"value\",\"value\":28},\"dh\":{\"type\":\"value\",\"value\":25},\"image\":{\"type\":\"field\",\"field\":\"image\"},\"color_mapper\":{\"type\":\"object\",\"name\":\"LinearColorMapper\",\"id\":\"p3306\",\"attributes\":{\"palette\":[\"#FBFCBF\",\"#FBFABD\",\"#FBF9BB\",\"#FBF7B9\",\"#FCF5B7\",\"#FCF3B5\",\"#FCF1B3\",\"#FCF0B1\",\"#FCEEB0\",\"#FCECAE\",\"#FCEAAC\",\"#FCE8AA\",\"#FCE6A8\",\"#FCE5A6\",\"#FCE3A5\",\"#FDE1A3\",\"#FDDFA1\",\"#FDDD9F\",\"#FDDC9D\",\"#FDDA9C\",\"#FDD89A\",\"#FDD698\",\"#FDD497\",\"#FDD295\",\"#FDD193\",\"#FDCF92\",\"#FDCD90\",\"#FECB8E\",\"#FEC98D\",\"#FEC78B\",\"#FEC689\",\"#FEC488\",\"#FEC286\",\"#FEC085\",\"#FEBE83\",\"#FEBC82\",\"#FEBB80\",\"#FEB97F\",\"#FEB77D\",\"#FEB57C\",\"#FEB37B\",\"#FEB179\",\"#FEAF78\",\"#FEAE76\",\"#FEAC75\",\"#FEAA74\",\"#FEA873\",\"#FEA671\",\"#FDA470\",\"#FDA26F\",\"#FDA16E\",\"#FD9F6C\",\"#FD9D6B\",\"#FD9B6A\",\"#FD9969\",\"#FD9768\",\"#FD9567\",\"#FC9366\",\"#FC9265\",\"#FC9064\",\"#FC8E63\",\"#FC8C63\",\"#FB8A62\",\"#FB8861\",\"#FB8660\",\"#FB8460\",\"#FA825F\",\"#FA805E\",\"#FA7F5E\",\"#F97D5D\",\"#F97B5D\",\"#F9795C\",\"#F8775C\",\"#F8755C\",\"#F7735C\",\"#F7715B\",\"#F6705B\",\"#F66E5B\",\"#F56C5B\",\"#F56A5B\",\"#F4685B\",\"#F3675B\",\"#F3655C\",\"#F2635C\",\"#F1615C\",\"#F0605D\",\"#EF5E5D\",\"#EE5D5D\",\"#EE5B5E\",\"#ED595F\",\"#EC585F\",\"#EB5660\",\"#EA5560\",\"#E85461\",\"#E75262\",\"#E65162\",\"#E55063\",\"#E44E64\",\"#E24D65\",\"#E14C66\",\"#E04B66\",\"#DE4A67\",\"#DD4968\",\"#DC4869\",\"#DA4769\",\"#D9466A\",\"#D7456B\",\"#D6446C\",\"#D4436D\",\"#D3426D\",\"#D1426E\",\"#D0416F\",\"#CE4070\",\"#CD3F70\",\"#CB3E71\",\"#CA3E72\",\"#C83D72\",\"#C63C73\",\"#C53C74\",\"#C33B74\",\"#C23A75\",\"#C03A75\",\"#BE3976\",\"#BD3977\",\"#BB3877\",\"#B93778\",\"#B83778\",\"#B63679\",\"#B53679\",\"#B3357A\",\"#B1357A\",\"#B0347B\",\"#AE347B\",\"#AC337B\",\"#AB337C\",\"#A9327C\",\"#A7317D\",\"#A6317D\",\"#A4307D\",\"#A3307E\",\"#A12F7E\",\"#9F2F7E\",\"#9E2E7E\",\"#9C2E7F\",\"#9A2D7F\",\"#992D7F\",\"#972C7F\",\"#952C80\",\"#942B80\",\"#922B80\",\"#912A80\",\"#8F2A80\",\"#8D2980\",\"#8C2980\",\"#8A2881\",\"#892881\",\"#872781\",\"#852681\",\"#842681\",\"#822581\",\"#812581\",\"#7F2481\",\"#7E2481\",\"#7C2381\",\"#7A2281\",\"#792281\",\"#772181\",\"#762181\",\"#742081\",\"#731F81\",\"#711F81\",\"#6F1E81\",\"#6E1E81\",\"#6C1D80\",\"#6B1C80\",\"#691C80\",\"#681B80\",\"#661A80\",\"#651A80\",\"#63197F\",\"#61187F\",\"#60187F\",\"#5E177F\",\"#5D177E\",\"#5B167E\",\"#5A157E\",\"#58157E\",\"#57147D\",\"#55137D\",\"#53137C\",\"#52127C\",\"#50127B\",\"#4F117B\",\"#4D117A\",\"#4B1079\",\"#4A1079\",\"#481078\",\"#470F77\",\"#450F76\",\"#430F75\",\"#420F74\",\"#400F73\",\"#3E0F72\",\"#3C0F71\",\"#3B0F6F\",\"#390F6E\",\"#370F6C\",\"#350F6A\",\"#341068\",\"#321067\",\"#301065\",\"#2F1062\",\"#2D1060\",\"#2B115E\",\"#2A115C\",\"#281159\",\"#261157\",\"#251155\",\"#231152\",\"#221150\",\"#20114D\",\"#1F114B\",\"#1E1049\",\"#1C1046\",\"#1B1044\",\"#1A1041\",\"#180F3F\",\"#170F3C\",\"#160E3A\",\"#150E38\",\"#140D35\",\"#120D33\",\"#110C31\",\"#100C2F\",\"#0F0B2C\",\"#0E0A2A\",\"#0D0A28\",\"#0C0926\",\"#0B0824\",\"#0A0722\",\"#09071F\",\"#08061D\",\"#07051B\",\"#060519\",\"#050417\",\"#040415\",\"#040313\",\"#030311\",\"#02020F\",\"#02020D\",\"#01010B\",\"#010109\",\"#010007\",\"#000006\",\"#000004\",\"#000003\"],\"low\":0,\"high\":1}}}},\"nonselection_glyph\":{\"type\":\"object\",\"name\":\"Image\",\"id\":\"p3359\",\"attributes\":{\"x\":{\"type\":\"value\",\"value\":0},\"y\":{\"type\":\"value\",\"value\":0},\"dw\":{\"type\":\"value\",\"value\":28},\"dh\":{\"type\":\"value\",\"value\":25},\"global_alpha\":{\"type\":\"value\",\"value\":0.1},\"image\":{\"type\":\"field\",\"field\":\"image\"},\"color_mapper\":{\"id\":\"p3306\"}}},\"muted_glyph\":{\"type\":\"object\",\"name\":\"Image\",\"id\":\"p3361\",\"attributes\":{\"x\":{\"type\":\"value\",\"value\":0},\"y\":{\"type\":\"value\",\"value\":0},\"dw\":{\"type\":\"value\",\"value\":28},\"dh\":{\"type\":\"value\",\"value\":25},\"global_alpha\":{\"type\":\"value\",\"value\":0.2},\"image\":{\"type\":\"field\",\"field\":\"image\"},\"color_mapper\":{\"id\":\"p3306\"}}}}}],[\"II\",{\"type\":\"object\",\"name\":\"GlyphRenderer\",\"id\":\"p3375\",\"attributes\":{\"level\":\"image\",\"visible\":false,\"data_source\":{\"type\":\"object\",\"name\":\"ColumnDataSource\",\"id\":\"p3366\",\"attributes\":{\"selected\":{\"type\":\"object\",\"name\":\"Selection\",\"id\":\"p3368\",\"attributes\":{\"indices\":[],\"line_indices\":[]}},\"selection_policy\":{\"type\":\"object\",\"name\":\"UnionRenderers\",\"id\":\"p3367\"},\"data\":{\"type\":\"map\",\"entries\":[[\"image\",[{\"type\":\"ndarray\",\"array\":{\"type\":\"bytes\",\"data\":\"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\"},\"shape\":[25,28],\"dtype\":\"float64\",\"order\":\"little\"}]]]}}},\"view\":{\"type\":\"object\",\"name\":\"CDSView\",\"id\":\"p3376\",\"attributes\":{\"filter\":{\"type\":\"object\",\"name\":\"AllIndices\",\"id\":\"p3377\"}}},\"glyph\":{\"type\":\"object\",\"name\":\"Image\",\"id\":\"p3369\",\"attributes\":{\"x\":{\"type\":\"value\",\"value\":0},\"y\":{\"type\":\"value\",\"value\":0},\"dw\":{\"type\":\"value\",\"value\":28},\"dh\":{\"type\":\"value\",\"value\":25},\"image\":{\"type\":\"field\",\"field\":\"image\"},\"color_mapper\":{\"id\":\"p3306\"}}},\"nonselection_glyph\":{\"type\":\"object\",\"name\":\"Image\",\"id\":\"p3371\",\"attributes\":{\"x\":{\"type\":\"value\",\"value\":0},\"y\":{\"type\":\"value\",\"value\":0},\"dw\":{\"type\":\"value\",\"value\":28},\"dh\":{\"type\":\"value\",\"value\":25},\"global_alpha\":{\"type\":\"value\",\"value\":0.1},\"image\":{\"type\":\"field\",\"field\":\"image\"},\"color_mapper\":{\"id\":\"p3306\"}}},\"muted_glyph\":{\"type\":\"object\",\"name\":\"Image\",\"id\":\"p3373\",\"attributes\":{\"x\":{\"type\":\"value\",\"value\":0},\"y\":{\"type\":\"value\",\"value\":0},\"dw\":{\"type\":\"value\",\"value\":28},\"dh\":{\"type\":\"value\",\"value\":25},\"global_alpha\":{\"type\":\"value\",\"value\":0.2},\"image\":{\"type\":\"field\",\"field\":\"image\"},\"color_mapper\":{\"id\":\"p3306\"}}}}}],[\"Ib/c\",{\"type\":\"object\",\"name\":\"GlyphRenderer\",\"id\":\"p3387\",\"attributes\":{\"level\":\"image\",\"visible\":false,\"data_source\":{\"type\":\"object\",\"name\":\"ColumnDataSource\",\"id\":\"p3378\",\"attributes\":{\"selected\":{\"type\":\"object\",\"name\":\"Selection\",\"id\":\"p3380\",\"attributes\":{\"indices\":[],\"line_indices\":[]}},\"selection_policy\":{\"type\":\"object\",\"name\":\"UnionRenderers\",\"id\":\"p3379\"},\"data\":{\"type\":\"map\",\"entries\":[[\"image\",[{\"type\":\"ndarray\",\"array\":{\"type\":\"bytes\",\"data\":\"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\"},\"shape\":[25,28],\"dtype\":\"float64\",\"order\":\"little\"}]]]}}},\"view\":{\"type\":\"object\",\"name\":\"CDSView\",\"id\":\"p3388\",\"attributes\":{\"filter\":{\"type\":\"object\",\"name\":\"AllIndices\",\"id\":\"p3389\"}}},\"glyph\":{\"type\":\"object\",\"name\":\"Image\",\"id\":\"p3381\",\"attributes\":{\"x\":{\"type\":\"value\",\"value\":0},\"y\":{\"type\":\"value\",\"value\":0},\"dw\":{\"type\":\"value\",\"value\":28},\"dh\":{\"type\":\"value\",\"value\":25},\"image\":{\"type\":\"field\",\"field\":\"image\"},\"color_mapper\":{\"id\":\"p3306\"}}},\"nonselection_glyph\":{\"type\":\"object\",\"name\":\"Image\",\"id\":\"p3383\",\"attributes\":{\"x\":{\"type\":\"value\",\"value\":0},\"y\":{\"type\":\"value\",\"value\":0},\"dw\":{\"type\":\"value\",\"value\":28},\"dh\":{\"type\":\"value\",\"value\":25},\"global_alpha\":{\"type\":\"value\",\"value\":0.1},\"image\":{\"type\":\"field\",\"field\":\"image\"},\"color_mapper\":{\"id\":\"p3306\"}}},\"muted_glyph\":{\"type\":\"object\",\"name\":\"Image\",\"id\":\"p3385\",\"attributes\":{\"x\":{\"type\":\"value\",\"value\":0},\"y\":{\"type\":\"value\",\"value\":0},\"dw\":{\"type\":\"value\",\"value\":28},\"dh\":{\"type\":\"value\",\"value\":25},\"global_alpha\":{\"type\":\"value\",\"value\":0.2},\"image\":{\"type\":\"field\",\"field\":\"image\"},\"color_mapper\":{\"id\":\"p3306\"}}}}}],[\"Ia\",{\"type\":\"object\",\"name\":\"GlyphRenderer\",\"id\":\"p3399\",\"attributes\":{\"level\":\"image\",\"visible\":false,\"data_source\":{\"type\":\"object\",\"name\":\"ColumnDataSource\",\"id\":\"p3390\",\"attributes\":{\"selected\":{\"type\":\"object\",\"name\":\"Selection\",\"id\":\"p3392\",\"attributes\":{\"indices\":[],\"line_indices\":[]}},\"selection_policy\":{\"type\":\"object\",\"name\":\"UnionRenderers\",\"id\":\"p3391\"},\"data\":{\"type\":\"map\",\"entries\":[[\"image\",[{\"type\":\"ndarray\",\"array\":{\"type\":\"bytes\",\"data\":\"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\"},\"shape\":[25,28],\"dtype\":\"float64\",\"order\":\"little\"}]]]}}},\"view\":{\"type\":\"object\",\"name\":\"CDSView\",\"id\":\"p3400\",\"attributes\":{\"filter\":{\"type\":\"object\",\"name\":\"AllIndices\",\"id\":\"p3401\"}}},\"glyph\":{\"type\":\"object\",\"name\":\"Image\",\"id\":\"p3393\",\"attributes\":{\"x\":{\"type\":\"value\",\"value\":0},\"y\":{\"type\":\"value\",\"value\":0},\"dw\":{\"type\":\"value\",\"value\":28},\"dh\":{\"type\":\"value\",\"value\":25},\"image\":{\"type\":\"field\",\"field\":\"image\"},\"color_mapper\":{\"id\":\"p3306\"}}},\"nonselection_glyph\":{\"type\":\"object\",\"name\":\"Image\",\"id\":\"p3395\",\"attributes\":{\"x\":{\"type\":\"value\",\"value\":0},\"y\":{\"type\":\"value\",\"value\":0},\"dw\":{\"type\":\"value\",\"value\":28},\"dh\":{\"type\":\"value\",\"value\":25},\"global_alpha\":{\"type\":\"value\",\"value\":0.1},\"image\":{\"type\":\"field\",\"field\":\"image\"},\"color_mapper\":{\"id\":\"p3306\"}}},\"muted_glyph\":{\"type\":\"object\",\"name\":\"Image\",\"id\":\"p3397\",\"attributes\":{\"x\":{\"type\":\"value\",\"value\":0},\"y\":{\"type\":\"value\",\"value\":0},\"dw\":{\"type\":\"value\",\"value\":28},\"dh\":{\"type\":\"value\",\"value\":25},\"global_alpha\":{\"type\":\"value\",\"value\":0.2},\"image\":{\"type\":\"field\",\"field\":\"image\"},\"color_mapper\":{\"id\":\"p3306\"}}}}}]]}],[\"p\",{\"type\":\"object\",\"name\":\"Figure\",\"id\":\"p3307\",\"attributes\":{\"width\":670,\"height\":400,\"x_range\":{\"type\":\"object\",\"name\":\"DataRange1d\",\"id\":\"p3309\"},\"y_range\":{\"type\":\"object\",\"name\":\"DataRange1d\",\"id\":\"p3308\"},\"x_scale\":{\"type\":\"object\",\"name\":\"LinearScale\",\"id\":\"p3321\"},\"y_scale\":{\"type\":\"object\",\"name\":\"LinearScale\",\"id\":\"p3323\"},\"title\":{\"type\":\"object\",\"name\":\"Title\",\"id\":\"p3310\",\"attributes\":{\"text\":\"True Class: SLSN; ALeRCE 3.1.0 balto 3.1.0\"}},\"renderers\":[{\"id\":\"p3363\"},{\"id\":\"p3375\"},{\"id\":\"p3387\"},{\"id\":\"p3399\"}],\"toolbar\":{\"type\":\"object\",\"name\":\"Toolbar\",\"id\":\"p3314\",\"attributes\":{\"tools\":[{\"type\":\"object\",\"name\":\"PanTool\",\"id\":\"p3339\"},{\"type\":\"object\",\"name\":\"WheelZoomTool\",\"id\":\"p3340\"},{\"type\":\"object\",\"name\":\"BoxZoomTool\",\"id\":\"p3341\",\"attributes\":{\"overlay\":{\"type\":\"object\",\"name\":\"BoxAnnotation\",\"id\":\"p3342\",\"attributes\":{\"syncable\":false,\"level\":\"overlay\",\"visible\":false,\"left_units\":\"canvas\",\"right_units\":\"canvas\",\"bottom_units\":\"canvas\",\"top_units\":\"canvas\",\"line_color\":\"black\",\"line_alpha\":1.0,\"line_width\":2,\"line_dash\":[4,4],\"fill_color\":\"lightgrey\",\"fill_alpha\":0.5}}}},{\"type\":\"object\",\"name\":\"SaveTool\",\"id\":\"p3343\"},{\"type\":\"object\",\"name\":\"ResetTool\",\"id\":\"p3344\"},{\"type\":\"object\",\"name\":\"HelpTool\",\"id\":\"p3345\"}]}},\"toolbar_location\":null,\"left\":[{\"type\":\"object\",\"name\":\"LinearAxis\",\"id\":\"p3332\",\"attributes\":{\"ticker\":{\"type\":\"object\",\"name\":\"FixedTicker\",\"id\":\"p3407\",\"attributes\":{\"ticks\":{\"type\":\"ndarray\",\"array\":{\"type\":\"bytes\",\"data\":\"AAAAAAEAAAACAAAAAwAAAAQAAAAFAAAABgAAAAcAAAAIAAAACQAAAAoAAAALAAAADAAAAA0AAAAOAAAADwAAABAAAAARAAAAEgAAABMAAAAUAAAAFQAAABYAAAAXAAAAGAAAAA==\"},\"shape\":[25],\"dtype\":\"int32\",\"order\":\"little\"},\"minor_ticks\":[]}},\"formatter\":{\"type\":\"object\",\"name\":\"BasicTickFormatter\",\"id\":\"p3333\"},\"axis_label\":\"Class\",\"major_label_overrides\":{\"type\":\"map\",\"entries\":[[0,\"SN-like/Other\"],[1,\"Ia\"],[2,\"Ib/c\"],[3,\"II\"],[4,\"Iax\"],[5,\"91bg\"],[6,\"Fast/Other\"],[7,\"KN\"],[8,\"M-dwarf Flare\"],[9,\"Dwarf Nova\"],[10,\"uLens\"],[11,\"Long/Other\"],[12,\"SLSN\"],[13,\"TDE\"],[14,\"ILOT\"],[15,\"CART\"],[16,\"PISN\"],[17,\"Periodic/Other\"],[18,\"Cepheid\"],[19,\"RR Lyrae\"],[20,\"Delta Scuti\"],[21,\"EB\"],[22,\"LPV/Mira\"],[23,\"Non-Periodic/Other\"],[24,\"AGN\"]]},\"major_label_policy\":{\"type\":\"object\",\"name\":\"AllLabels\",\"id\":\"p3335\"}}}],\"right\":[{\"type\":\"object\",\"name\":\"ColorBar\",\"id\":\"p3405\",\"attributes\":{\"location\":[0,0],\"title\":\"Probability\",\"title_text_align\":\"center\",\"major_label_policy\":{\"type\":\"object\",\"name\":\"NoOverlap\",\"id\":\"p3406\"},\"color_mapper\":{\"id\":\"p3306\"}}}],\"below\":[{\"type\":\"object\",\"name\":\"LinearAxis\",\"id\":\"p3325\",\"attributes\":{\"ticker\":{\"type\":\"object\",\"name\":\"FixedTicker\",\"id\":\"p3409\",\"attributes\":{\"ticks\":{\"type\":\"ndarray\",\"array\":{\"type\":\"bytes\",\"data\":\"AAAAAAAA4D8AAAAAAAASQAAAAAAAACFAAAAAAAAAKUAAAAAAAIAwQAAAAAAAgDRAAAAAAACAOEA=\"},\"shape\":[7],\"dtype\":\"float64\",\"order\":\"little\"},\"minor_ticks\":[]}},\"formatter\":{\"type\":\"object\",\"name\":\"BasicTickFormatter\",\"id\":\"p3326\"},\"axis_label\":\"\\u0394t rel. peak (days)\",\"major_label_overrides\":{\"type\":\"map\",\"entries\":[[0.5,\"-30.0\"],[4.5,\"-10.0\"],[8.5,\"10.0\"],[12.5,\"30.0\"],[16.5,\"50.0\"],[20.5,\"70.0\"],[24.5,\"90.0\"]]},\"major_label_policy\":{\"type\":\"object\",\"name\":\"AllLabels\",\"id\":\"p3328\"}}}],\"center\":[{\"type\":\"object\",\"name\":\"Grid\",\"id\":\"p3331\",\"attributes\":{\"axis\":{\"id\":\"p3325\"}}},{\"type\":\"object\",\"name\":\"Grid\",\"id\":\"p3338\",\"attributes\":{\"dimension\":1,\"axis\":{\"id\":\"p3332\"}}}]}}],[\"title_text\",\"ALeRCE 3.1.0 balto 3.1.0\"]]},\"code\":\"\\n    const titles = {\\n        \\\"SLSN\\\": \\\"True Class: SLSN; \\\" + title_text,\\n        \\\"II\\\": \\\"True Class: II; \\\" + title_text,\\n        \\\"Ib/c\\\": \\\"True Class: Ib/c; \\\" + title_text,\\n        \\\"Ia\\\": \\\"True Class: Ia; \\\" + title_text\\n    };\\n\\n    for (const plot of Object.values(plot_dict)) {\\n        plot.visible = false;\\n    }\\n\\n    plot_dict[this.value].visible = true;\\n    p.title.text = titles[this.value];\\n\"}}]]]},\"title\":\"Plot to show:\",\"options\":[\"SLSN\",\"II\",\"Ib/c\",\"Ia\"],\"value\":\"Line 1\"}},{\"id\":\"p3307\"}]}}],\"callbacks\":{\"type\":\"map\"}}};\n  const render_items = [{\"docid\":\"99d5cedd-5ee9-4f48-a437-88b51ae41af2\",\"roots\":{\"p3404\":\"7d61b0e6-5b68-4e8f-aa08-5f1afdd69f79\"},\"root_ids\":[\"p3404\"]}];\n  root.Bokeh.embed.embed_items_notebook(docs_json, render_items);\n  }\n  if (root.Bokeh !== undefined) {\n    embed_document(root);\n  } else {\n    let attempts = 0;\n    const timer = setInterval(function(root) {\n      if (root.Bokeh !== undefined) {\n        clearInterval(timer);\n        embed_document(root);\n      } else {\n        attempts++;\n        if (attempts > 100) {\n          clearInterval(timer);\n          console.log(\"Bokeh: ERROR: Unable to run BokehJS code because BokehJS library is missing\");\n        }\n      }\n    }, 10, root)\n  }\n})(window);",
      "application/vnd.bokehjs_exec.v0+json": ""
     },
     "metadata": {
      "application/vnd.bokehjs_exec.v0+json": {
       "id": "p3404"
      }
     },
     "output_type": "display_data"
    }
   ],
   "source": [
    "new_magma = list(Magma256)\n",
    "new_magma.reverse()\n",
    "# Here we create an inverse of the original palette to more easily show differences in data\n",
    "cfertitle = f'{brokername} {brokerversion} {classifiername} {classifierparams}'\n",
    "color_mapper = LinearColorMapper(palette=new_magma, low=0, high=1)\n",
    "p = figure(width=670, height=400, toolbar_location=None,\n",
    "           title=f\"True Class: SLSN; {cfertitle}\", x_axis_label = \"Δt rel. peak (days)\", y_axis_label = \"Class\")\n",
    "plot_1 = p.image(image=[grid_tab.values[:,:]], x=0, y=0, dw=28, dh=25,color_mapper=color_mapper, level=\"image\")\n",
    "plot_2 = p.image(image=[grid_tab2.values[:,:]], x=0, y=0, dw=28, dh=25,color_mapper=color_mapper, level=\"image\")\n",
    "plot_3 = p.image(image=[grid_tab3.values[:,:]], x=0, y=0, dw=28, dh=25,color_mapper=color_mapper, level=\"image\")\n",
    "plot_4 = p.image(image=[grid_tab4.values[:,:]], x=0, y=0, dw=28, dh=25,color_mapper=color_mapper, level=\"image\")\n",
    "\n",
    "plot_2.visible = False\n",
    "plot_3.visible = False\n",
    "plot_4.visible = False\n",
    "# These plot_#.visible commands allow us to only view one plot at a time\n",
    "\n",
    "plot_dict = {}\n",
    "plot_dict[\"SLSN\"] = plot_1\n",
    "plot_dict[\"II\"] = plot_2\n",
    "plot_dict[\"Ib/c\"] = plot_3\n",
    "plot_dict[\"Ia\"] = plot_4\n",
    "\n",
    "# dropdown widget + Javascript code for interactivity\n",
    "select = Select(title=\"Plot to show:\", value=\"Line 1\", options=[\"SLSN\", \"II\", \"Ib/c\", \"Ia\"])\n",
    "select.js_on_change(\"value\", CustomJS(args=dict(plot_dict=plot_dict, p=p, title_text=cfertitle), code=\"\"\"\n",
    "    const titles = {\n",
    "        \"SLSN\": \"True Class: SLSN; \" + title_text,\n",
    "        \"II\": \"True Class: II; \" + title_text,\n",
    "        \"Ib/c\": \"True Class: Ib/c; \" + title_text,\n",
    "        \"Ia\": \"True Class: Ia; \" + title_text\n",
    "    };\n",
    "\n",
    "    for (const plot of Object.values(plot_dict)) {\n",
    "        plot.visible = false;\n",
    "    }\n",
    "\n",
    "    plot_dict[this.value].visible = true;\n",
    "    p.title.text = titles[this.value];\n",
    "\"\"\"))\n",
    "\n",
    "# The javascript above ensures that the title of the selected graph matches that associated data.\n",
    "\n",
    "layout = column(select, p)\n",
    "color_bar = ColorBar(color_mapper=color_mapper, location=(0,0), title = 'Probability', title_text_align = 'center')\n",
    "p.add_layout(color_bar, 'right')\n",
    "y_tick = np.arange(25)\n",
    "p.yaxis.ticker = y_tick\n",
    "name_arr = [emq.classname[i] for i in grid_tab.index.values]\n",
    "p.yaxis.major_label_overrides = {i:name for i, name in zip(y_tick, name_arr)}\n",
    "x_tick = np.arange(0, 28, 4) + 0.5\n",
    "p.xaxis.ticker = x_tick\n",
    "time_arr = emq.tbin_val(x_tick)\n",
    "p.xaxis.major_label_overrides = {i:str(name) for i, name in zip(x_tick, time_arr)}\n",
    "\n",
    "show(layout)\n",
    "#output_file(filename='/epyc/users/joseph02/public_html/elasticc_interactive_heatmap.html')\n",
    "#save(layout)"
   ]
  },
  {
   "cell_type": "markdown",
   "id": "1a6933ca-e59b-42be-8d0c-e418f2222336",
   "metadata": {},
   "source": [
    "Here's a modified version of the plot above, easily extended to as many classes as you want. "
   ]
  },
  {
   "cell_type": "code",
   "execution_count": 43,
   "id": "6f8f418a-f0c9-45e1-9b70-79d2515fdab3",
   "metadata": {},
   "outputs": [
    {
     "name": "stdout",
     "output_type": "stream",
     "text": [
      "Going to do classifiers: [40, 89, 44]\n",
      "Going to do classes: ['Ia', 'Ib/c', 'II', 'SLSN', 'Delta Scuti', 'EB', 'AGN']\n"
     ]
    }
   ],
   "source": [
    "cferstodo = [40, 89, 44]\n",
    "trueclasstodo = [111, 112, 113, 131, 213, 214, 221]\n",
    "print( f\"Going to do classifiers: {cferstodo}\" )\n",
    "print( f\"Going to do classes: {[emq.classname[i] for i in trueclasstodo]}\" )"
   ]
  },
  {
   "cell_type": "code",
   "execution_count": 44,
   "id": "b678fdfc-0f5d-4f1d-98d6-a8a9b896ad98",
   "metadata": {},
   "outputs": [
    {
     "name": "stderr",
     "output_type": "stream",
     "text": [
      "[2023-06-06 14:15:46 - DEBUG] - doing cfer 40, true class Ia\n",
      "[2023-06-06 14:15:46 - DEBUG] - doing cfer 40, true class Ib/c\n",
      "[2023-06-06 14:15:47 - DEBUG] - doing cfer 40, true class II\n",
      "[2023-06-06 14:15:47 - DEBUG] - doing cfer 40, true class SLSN\n",
      "[2023-06-06 14:15:47 - DEBUG] - doing cfer 40, true class Delta Scuti\n",
      "[2023-06-06 14:15:47 - DEBUG] - doing cfer 40, true class EB\n",
      "[2023-06-06 14:15:48 - DEBUG] - doing cfer 40, true class AGN\n"
     ]
    }
   ],
   "source": [
    "trueClassResults = {}\n",
    "for cfer in cferstodo[:1]:\n",
    "    brokername = emq.classifier_info[cfer]['brokerName']\n",
    "    brokerversion = emq.classifier_info[cfer]['brokerVersion']\n",
    "    classifiername = emq.classifier_info[cfer]['classifierName']\n",
    "    classifierparams = emq.classifier_info[cfer]['classifierParams']\n",
    "    cfertitle = f'{brokername} {brokerversion} {classifiername} {classifierparams}'\n",
    "    for trueclass in trueclasstodo:\n",
    "        logger.debug( f\"doing cfer {cfer}, true class {emq.classname[trueclass]}\" )\n",
    "        title = f\"True Class {emq.classname[trueclass]} for {cfertitle}\"\n",
    "        subdf = probhist.xs( ( cfer, trueclass ), level=( 'classifierId', 'trueClassId' ) )\n",
    "        probdf = subdf / subdf.groupby( ['classId', 'tbin'] ).sum()\n",
    "        probdf.reset_index( inplace=True )\n",
    "        probdf.set_index( ['tbin', 'probbin', 'classId'], inplace=True )\n",
    "        # logger.debug( f\"Before filling in missing indexes, len(probhist) = {len(probhist)}\" )\n",
    "        # Fill in missing indexes with 0s.  This is a bit slow (takes a couple of seconds each time).\n",
    "        # new_indices = pandas.MultiIndex.from_product( [ range( 0, emq.tbin_num+2 ), range( 0, emq.probbin_num+2 ), \n",
    "        #                                                 probdf.index.get_level_values('classId') ] )\n",
    "        # probdf.reindex( new_indices, fill_value=0. )\n",
    "        # logger.debug( f\"After filling in missing indexes, len(probhist) = {len(probhist)}\" )\n",
    "        # Fill in the probability values associated with the bins\n",
    "        probdf['prob'] = emq.probbin_val( probdf.reset_index()['probbin'] )\n",
    "        # HACK ALERT.  There's this issue with the histogramming.  Probably (but not certainly) lots\n",
    "        # of the things that show up in probbin=1 are really 0 probabilities reported by the brokers,\n",
    "        # but now that we've binned it we're going to treat it as 0.025.  Big deal, you say, until\n",
    "        # you realize that there might be 15 classes that all were given 0 probability by a\n",
    "        # broker, and now you've got an extra 15*0.025=0.625 of probability that's not real!  So, \n",
    "        # we're going to make the rash assumption that the probability value associated with \n",
    "        # probbin=1 is 0, not 2.5%, which is wrong, but hopefully less wrong than a direct\n",
    "        # interpretation of the histogram.\n",
    "        probdf.loc[ pandas.IndexSlice[ :, 1, : ] ] = 0.\n",
    "        # Don't need probbin any more\n",
    "        probdf.reset_index( inplace=True )\n",
    "        probdf.drop( [ 'probbin' ] , axis=1, inplace=True )\n",
    "        probdf.set_index( [ 'tbin', 'classId' ], inplace=True )\n",
    "        \n",
    "        # Finally, combine things together to get a total probability\n",
    "        #   as a function of classId and tbin\n",
    "        probdf['prob'] *= probdf['count']\n",
    "        probdf.drop( [ 'count' ], axis=1, inplace=True )\n",
    "        probdf = probdf.groupby( [ 'tbin', 'classId' ] ).apply( sum )\n",
    "\n",
    "        # To check how much probability we've lost with our assuming probbin1 is 0 probability,\n",
    "        # do probdf.groupby(['tbin']).sum()\n",
    "\n",
    "        # Fill in the missing tbins\n",
    "        # logger.debug( f\"Before fliling in missing tbins, len(probdf) = {len(probdf)}\" )\n",
    "        new_indices = pandas.MultiIndex.from_product( [ range(0, emq.tbin_num+2), probdf.index.get_level_values( 'classId' ) ] )\n",
    "        probdf.reindex( new_indices, fill_value=0. )\n",
    "        # logger.debug( f\"After filling in missing tbins, len(probdf) = {len(probdf)}\" )\n",
    "        trueClassResults[emq.classname[trueclass]] = probdf"
   ]
  },
  {
   "cell_type": "code",
   "execution_count": 45,
   "id": "2a44d717-7499-4780-898a-c4a2854f616b",
   "metadata": {},
   "outputs": [
    {
     "data": {
      "text/html": [
       "\n",
       "  <div id=\"340ea843-a3eb-4bc3-8890-a310c23d2e6d\" data-root-id=\"p3900\" style=\"display: contents;\"></div>\n"
      ]
     },
     "metadata": {},
     "output_type": "display_data"
    },
    {
     "data": {
      "application/javascript": "(function(root) {\n  function embed_document(root) {\n  const docs_json = {\"aef22849-dcf6-48ba-84db-4b92a59052e6\":{\"version\":\"3.1.0\",\"title\":\"Bokeh Application\",\"defs\":[],\"roots\":[{\"type\":\"object\",\"name\":\"Column\",\"id\":\"p3900\",\"attributes\":{\"children\":[{\"type\":\"object\",\"name\":\"Select\",\"id\":\"p3898\",\"attributes\":{\"js_property_callbacks\":{\"type\":\"map\",\"entries\":[[\"change:value\",[{\"type\":\"object\",\"name\":\"CustomJS\",\"id\":\"p3899\",\"attributes\":{\"args\":{\"type\":\"map\",\"entries\":[[\"plot_dict\",{\"type\":\"map\",\"entries\":[[\"Ia\",{\"type\":\"object\",\"name\":\"GlyphRenderer\",\"id\":\"p3823\",\"attributes\":{\"level\":\"image\",\"visible\":true,\"data_source\":{\"type\":\"object\",\"name\":\"ColumnDataSource\",\"id\":\"p3814\",\"attributes\":{\"selected\":{\"type\":\"object\",\"name\":\"Selection\",\"id\":\"p3816\",\"attributes\":{\"indices\":[],\"line_indices\":[]}},\"selection_policy\":{\"type\":\"object\",\"name\":\"UnionRenderers\",\"id\":\"p3815\"},\"data\":{\"type\":\"map\",\"entries\":[[\"image\",[{\"type\":\"ndarray\",\"array\":{\"type\":\"bytes\",\"data\":\"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\"},\"shape\":[25,28],\"dtype\":\"float64\",\"order\":\"little\"}]]]}}},\"view\":{\"type\":\"object\",\"name\":\"CDSView\",\"id\":\"p3824\",\"attributes\":{\"filter\":{\"type\":\"object\",\"name\":\"AllIndices\",\"id\":\"p3825\"}}},\"glyph\":{\"type\":\"object\",\"name\":\"Image\",\"id\":\"p3817\",\"attributes\":{\"x\":{\"type\":\"value\",\"value\":0},\"y\":{\"type\":\"value\",\"value\":0},\"dw\":{\"type\":\"value\",\"value\":28},\"dh\":{\"type\":\"value\",\"value\":25},\"image\":{\"type\":\"field\",\"field\":\"image\"},\"color_mapper\":{\"type\":\"object\",\"name\":\"LinearColorMapper\",\"id\":\"p3766\",\"attributes\":{\"palette\":[\"#FBFCBF\",\"#FBFABD\",\"#FBF9BB\",\"#FBF7B9\",\"#FCF5B7\",\"#FCF3B5\",\"#FCF1B3\",\"#FCF0B1\",\"#FCEEB0\",\"#FCECAE\",\"#FCEAAC\",\"#FCE8AA\",\"#FCE6A8\",\"#FCE5A6\",\"#FCE3A5\",\"#FDE1A3\",\"#FDDFA1\",\"#FDDD9F\",\"#FDDC9D\",\"#FDDA9C\",\"#FDD89A\",\"#FDD698\",\"#FDD497\",\"#FDD295\",\"#FDD193\",\"#FDCF92\",\"#FDCD90\",\"#FECB8E\",\"#FEC98D\",\"#FEC78B\",\"#FEC689\",\"#FEC488\",\"#FEC286\",\"#FEC085\",\"#FEBE83\",\"#FEBC82\",\"#FEBB80\",\"#FEB97F\",\"#FEB77D\",\"#FEB57C\",\"#FEB37B\",\"#FEB179\",\"#FEAF78\",\"#FEAE76\",\"#FEAC75\",\"#FEAA74\",\"#FEA873\",\"#FEA671\",\"#FDA470\",\"#FDA26F\",\"#FDA16E\",\"#FD9F6C\",\"#FD9D6B\",\"#FD9B6A\",\"#FD9969\",\"#FD9768\",\"#FD9567\",\"#FC9366\",\"#FC9265\",\"#FC9064\",\"#FC8E63\",\"#FC8C63\",\"#FB8A62\",\"#FB8861\",\"#FB8660\",\"#FB8460\",\"#FA825F\",\"#FA805E\",\"#FA7F5E\",\"#F97D5D\",\"#F97B5D\",\"#F9795C\",\"#F8775C\",\"#F8755C\",\"#F7735C\",\"#F7715B\",\"#F6705B\",\"#F66E5B\",\"#F56C5B\",\"#F56A5B\",\"#F4685B\",\"#F3675B\",\"#F3655C\",\"#F2635C\",\"#F1615C\",\"#F0605D\",\"#EF5E5D\",\"#EE5D5D\",\"#EE5B5E\",\"#ED595F\",\"#EC585F\",\"#EB5660\",\"#EA5560\",\"#E85461\",\"#E75262\",\"#E65162\",\"#E55063\",\"#E44E64\",\"#E24D65\",\"#E14C66\",\"#E04B66\",\"#DE4A67\",\"#DD4968\",\"#DC4869\",\"#DA4769\",\"#D9466A\",\"#D7456B\",\"#D6446C\",\"#D4436D\",\"#D3426D\",\"#D1426E\",\"#D0416F\",\"#CE4070\",\"#CD3F70\",\"#CB3E71\",\"#CA3E72\",\"#C83D72\",\"#C63C73\",\"#C53C74\",\"#C33B74\",\"#C23A75\",\"#C03A75\",\"#BE3976\",\"#BD3977\",\"#BB3877\",\"#B93778\",\"#B83778\",\"#B63679\",\"#B53679\",\"#B3357A\",\"#B1357A\",\"#B0347B\",\"#AE347B\",\"#AC337B\",\"#AB337C\",\"#A9327C\",\"#A7317D\",\"#A6317D\",\"#A4307D\",\"#A3307E\",\"#A12F7E\",\"#9F2F7E\",\"#9E2E7E\",\"#9C2E7F\",\"#9A2D7F\",\"#992D7F\",\"#972C7F\",\"#952C80\",\"#942B80\",\"#922B80\",\"#912A80\",\"#8F2A80\",\"#8D2980\",\"#8C2980\",\"#8A2881\",\"#892881\",\"#872781\",\"#852681\",\"#842681\",\"#822581\",\"#812581\",\"#7F2481\",\"#7E2481\",\"#7C2381\",\"#7A2281\",\"#792281\",\"#772181\",\"#762181\",\"#742081\",\"#731F81\",\"#711F81\",\"#6F1E81\",\"#6E1E81\",\"#6C1D80\",\"#6B1C80\",\"#691C80\",\"#681B80\",\"#661A80\",\"#651A80\",\"#63197F\",\"#61187F\",\"#60187F\",\"#5E177F\",\"#5D177E\",\"#5B167E\",\"#5A157E\",\"#58157E\",\"#57147D\",\"#55137D\",\"#53137C\",\"#52127C\",\"#50127B\",\"#4F117B\",\"#4D117A\",\"#4B1079\",\"#4A1079\",\"#481078\",\"#470F77\",\"#450F76\",\"#430F75\",\"#420F74\",\"#400F73\",\"#3E0F72\",\"#3C0F71\",\"#3B0F6F\",\"#390F6E\",\"#370F6C\",\"#350F6A\",\"#341068\",\"#321067\",\"#301065\",\"#2F1062\",\"#2D1060\",\"#2B115E\",\"#2A115C\",\"#281159\",\"#261157\",\"#251155\",\"#231152\",\"#221150\",\"#20114D\",\"#1F114B\",\"#1E1049\",\"#1C1046\",\"#1B1044\",\"#1A1041\",\"#180F3F\",\"#170F3C\",\"#160E3A\",\"#150E38\",\"#140D35\",\"#120D33\",\"#110C31\",\"#100C2F\",\"#0F0B2C\",\"#0E0A2A\",\"#0D0A28\",\"#0C0926\",\"#0B0824\",\"#0A0722\",\"#09071F\",\"#08061D\",\"#07051B\",\"#060519\",\"#050417\",\"#040415\",\"#040313\",\"#030311\",\"#02020F\",\"#02020D\",\"#01010B\",\"#010109\",\"#010007\",\"#000006\",\"#000004\",\"#000003\"],\"low\":0,\"high\":1}}}},\"nonselection_glyph\":{\"type\":\"object\",\"name\":\"Image\",\"id\":\"p3819\",\"attributes\":{\"x\":{\"type\":\"value\",\"value\":0},\"y\":{\"type\":\"value\",\"value\":0},\"dw\":{\"type\":\"value\",\"value\":28},\"dh\":{\"type\":\"value\",\"value\":25},\"global_alpha\":{\"type\":\"value\",\"value\":0.1},\"image\":{\"type\":\"field\",\"field\":\"image\"},\"color_mapper\":{\"id\":\"p3766\"}}},\"muted_glyph\":{\"type\":\"object\",\"name\":\"Image\",\"id\":\"p3821\",\"attributes\":{\"x\":{\"type\":\"value\",\"value\":0},\"y\":{\"type\":\"value\",\"value\":0},\"dw\":{\"type\":\"value\",\"value\":28},\"dh\":{\"type\":\"value\",\"value\":25},\"global_alpha\":{\"type\":\"value\",\"value\":0.2},\"image\":{\"type\":\"field\",\"field\":\"image\"},\"color_mapper\":{\"id\":\"p3766\"}}}}}],[\"Ib/c\",{\"type\":\"object\",\"name\":\"GlyphRenderer\",\"id\":\"p3835\",\"attributes\":{\"level\":\"image\",\"visible\":false,\"data_source\":{\"type\":\"object\",\"name\":\"ColumnDataSource\",\"id\":\"p3826\",\"attributes\":{\"selected\":{\"type\":\"object\",\"name\":\"Selection\",\"id\":\"p3828\",\"attributes\":{\"indices\":[],\"line_indices\":[]}},\"selection_policy\":{\"type\":\"object\",\"name\":\"UnionRenderers\",\"id\":\"p3827\"},\"data\":{\"type\":\"map\",\"entries\":[[\"image\",[{\"type\":\"ndarray\",\"array\":{\"type\":\"bytes\",\"data\":\"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\"},\"shape\":[25,28],\"dtype\":\"float64\",\"order\":\"little\"}]]]}}},\"view\":{\"type\":\"object\",\"name\":\"CDSView\",\"id\":\"p3836\",\"attributes\":{\"filter\":{\"type\":\"object\",\"name\":\"AllIndices\",\"id\":\"p3837\"}}},\"glyph\":{\"type\":\"object\",\"name\":\"Image\",\"id\":\"p3829\",\"attributes\":{\"x\":{\"type\":\"value\",\"value\":0},\"y\":{\"type\":\"value\",\"value\":0},\"dw\":{\"type\":\"value\",\"value\":28},\"dh\":{\"type\":\"value\",\"value\":25},\"image\":{\"type\":\"field\",\"field\":\"image\"},\"color_mapper\":{\"id\":\"p3766\"}}},\"nonselection_glyph\":{\"type\":\"object\",\"name\":\"Image\",\"id\":\"p3831\",\"attributes\":{\"x\":{\"type\":\"value\",\"value\":0},\"y\":{\"type\":\"value\",\"value\":0},\"dw\":{\"type\":\"value\",\"value\":28},\"dh\":{\"type\":\"value\",\"value\":25},\"global_alpha\":{\"type\":\"value\",\"value\":0.1},\"image\":{\"type\":\"field\",\"field\":\"image\"},\"color_mapper\":{\"id\":\"p3766\"}}},\"muted_glyph\":{\"type\":\"object\",\"name\":\"Image\",\"id\":\"p3833\",\"attributes\":{\"x\":{\"type\":\"value\",\"value\":0},\"y\":{\"type\":\"value\",\"value\":0},\"dw\":{\"type\":\"value\",\"value\":28},\"dh\":{\"type\":\"value\",\"value\":25},\"global_alpha\":{\"type\":\"value\",\"value\":0.2},\"image\":{\"type\":\"field\",\"field\":\"image\"},\"color_mapper\":{\"id\":\"p3766\"}}}}}],[\"II\",{\"type\":\"object\",\"name\":\"GlyphRenderer\",\"id\":\"p3847\",\"attributes\":{\"level\":\"image\",\"visible\":false,\"data_source\":{\"type\":\"object\",\"name\":\"ColumnDataSource\",\"id\":\"p3838\",\"attributes\":{\"selected\":{\"type\":\"object\",\"name\":\"Selection\",\"id\":\"p3840\",\"attributes\":{\"indices\":[],\"line_indices\":[]}},\"selection_policy\":{\"type\":\"object\",\"name\":\"UnionRenderers\",\"id\":\"p3839\"},\"data\":{\"type\":\"map\",\"entries\":[[\"image\",[{\"type\":\"ndarray\",\"array\":{\"type\":\"bytes\",\"data\":\"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\"},\"shape\":[25,28],\"dtype\":\"float64\",\"order\":\"little\"}]]]}}},\"view\":{\"type\":\"object\",\"name\":\"CDSView\",\"id\":\"p3848\",\"attributes\":{\"filter\":{\"type\":\"object\",\"name\":\"AllIndices\",\"id\":\"p3849\"}}},\"glyph\":{\"type\":\"object\",\"name\":\"Image\",\"id\":\"p3841\",\"attributes\":{\"x\":{\"type\":\"value\",\"value\":0},\"y\":{\"type\":\"value\",\"value\":0},\"dw\":{\"type\":\"value\",\"value\":28},\"dh\":{\"type\":\"value\",\"value\":25},\"image\":{\"type\":\"field\",\"field\":\"image\"},\"color_mapper\":{\"id\":\"p3766\"}}},\"nonselection_glyph\":{\"type\":\"object\",\"name\":\"Image\",\"id\":\"p3843\",\"attributes\":{\"x\":{\"type\":\"value\",\"value\":0},\"y\":{\"type\":\"value\",\"value\":0},\"dw\":{\"type\":\"value\",\"value\":28},\"dh\":{\"type\":\"value\",\"value\":25},\"global_alpha\":{\"type\":\"value\",\"value\":0.1},\"image\":{\"type\":\"field\",\"field\":\"image\"},\"color_mapper\":{\"id\":\"p3766\"}}},\"muted_glyph\":{\"type\":\"object\",\"name\":\"Image\",\"id\":\"p3845\",\"attributes\":{\"x\":{\"type\":\"value\",\"value\":0},\"y\":{\"type\":\"value\",\"value\":0},\"dw\":{\"type\":\"value\",\"value\":28},\"dh\":{\"type\":\"value\",\"value\":25},\"global_alpha\":{\"type\":\"value\",\"value\":0.2},\"image\":{\"type\":\"field\",\"field\":\"image\"},\"color_mapper\":{\"id\":\"p3766\"}}}}}],[\"SLSN\",{\"type\":\"object\",\"name\":\"GlyphRenderer\",\"id\":\"p3859\",\"attributes\":{\"level\":\"image\",\"visible\":false,\"data_source\":{\"type\":\"object\",\"name\":\"ColumnDataSource\",\"id\":\"p3850\",\"attributes\":{\"selected\":{\"type\":\"object\",\"name\":\"Selection\",\"id\":\"p3852\",\"attributes\":{\"indices\":[],\"line_indices\":[]}},\"selection_policy\":{\"type\":\"object\",\"name\":\"UnionRenderers\",\"id\":\"p3851\"},\"data\":{\"type\":\"map\",\"entries\":[[\"image\",[{\"type\":\"ndarray\",\"array\":{\"type\":\"bytes\",\"data\":\"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\"},\"shape\":[25,28],\"dtype\":\"float64\",\"order\":\"little\"}]]]}}},\"view\":{\"type\":\"object\",\"name\":\"CDSView\",\"id\":\"p3860\",\"attributes\":{\"filter\":{\"type\":\"object\",\"name\":\"AllIndices\",\"id\":\"p3861\"}}},\"glyph\":{\"type\":\"object\",\"name\":\"Image\",\"id\":\"p3853\",\"attributes\":{\"x\":{\"type\":\"value\",\"value\":0},\"y\":{\"type\":\"value\",\"value\":0},\"dw\":{\"type\":\"value\",\"value\":28},\"dh\":{\"type\":\"value\",\"value\":25},\"image\":{\"type\":\"field\",\"field\":\"image\"},\"color_mapper\":{\"id\":\"p3766\"}}},\"nonselection_glyph\":{\"type\":\"object\",\"name\":\"Image\",\"id\":\"p3855\",\"attributes\":{\"x\":{\"type\":\"value\",\"value\":0},\"y\":{\"type\":\"value\",\"value\":0},\"dw\":{\"type\":\"value\",\"value\":28},\"dh\":{\"type\":\"value\",\"value\":25},\"global_alpha\":{\"type\":\"value\",\"value\":0.1},\"image\":{\"type\":\"field\",\"field\":\"image\"},\"color_mapper\":{\"id\":\"p3766\"}}},\"muted_glyph\":{\"type\":\"object\",\"name\":\"Image\",\"id\":\"p3857\",\"attributes\":{\"x\":{\"type\":\"value\",\"value\":0},\"y\":{\"type\":\"value\",\"value\":0},\"dw\":{\"type\":\"value\",\"value\":28},\"dh\":{\"type\":\"value\",\"value\":25},\"global_alpha\":{\"type\":\"value\",\"value\":0.2},\"image\":{\"type\":\"field\",\"field\":\"image\"},\"color_mapper\":{\"id\":\"p3766\"}}}}}],[\"Delta Scuti\",{\"type\":\"object\",\"name\":\"GlyphRenderer\",\"id\":\"p3871\",\"attributes\":{\"level\":\"image\",\"visible\":false,\"data_source\":{\"type\":\"object\",\"name\":\"ColumnDataSource\",\"id\":\"p3862\",\"attributes\":{\"selected\":{\"type\":\"object\",\"name\":\"Selection\",\"id\":\"p3864\",\"attributes\":{\"indices\":[],\"line_indices\":[]}},\"selection_policy\":{\"type\":\"object\",\"name\":\"UnionRenderers\",\"id\":\"p3863\"},\"data\":{\"type\":\"map\",\"entries\":[[\"image\",[{\"type\":\"ndarray\",\"array\":{\"type\":\"bytes\",\"data\":\"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\"},\"shape\":[25,21],\"dtype\":\"float64\",\"order\":\"little\"}]]]}}},\"view\":{\"type\":\"object\",\"name\":\"CDSView\",\"id\":\"p3872\",\"attributes\":{\"filter\":{\"type\":\"object\",\"name\":\"AllIndices\",\"id\":\"p3873\"}}},\"glyph\":{\"type\":\"object\",\"name\":\"Image\",\"id\":\"p3865\",\"attributes\":{\"x\":{\"type\":\"value\",\"value\":0},\"y\":{\"type\":\"value\",\"value\":0},\"dw\":{\"type\":\"value\",\"value\":28},\"dh\":{\"type\":\"value\",\"value\":25},\"image\":{\"type\":\"field\",\"field\":\"image\"},\"color_mapper\":{\"id\":\"p3766\"}}},\"nonselection_glyph\":{\"type\":\"object\",\"name\":\"Image\",\"id\":\"p3867\",\"attributes\":{\"x\":{\"type\":\"value\",\"value\":0},\"y\":{\"type\":\"value\",\"value\":0},\"dw\":{\"type\":\"value\",\"value\":28},\"dh\":{\"type\":\"value\",\"value\":25},\"global_alpha\":{\"type\":\"value\",\"value\":0.1},\"image\":{\"type\":\"field\",\"field\":\"image\"},\"color_mapper\":{\"id\":\"p3766\"}}},\"muted_glyph\":{\"type\":\"object\",\"name\":\"Image\",\"id\":\"p3869\",\"attributes\":{\"x\":{\"type\":\"value\",\"value\":0},\"y\":{\"type\":\"value\",\"value\":0},\"dw\":{\"type\":\"value\",\"value\":28},\"dh\":{\"type\":\"value\",\"value\":25},\"global_alpha\":{\"type\":\"value\",\"value\":0.2},\"image\":{\"type\":\"field\",\"field\":\"image\"},\"color_mapper\":{\"id\":\"p3766\"}}}}}],[\"EB\",{\"type\":\"object\",\"name\":\"GlyphRenderer\",\"id\":\"p3883\",\"attributes\":{\"level\":\"image\",\"visible\":false,\"data_source\":{\"type\":\"object\",\"name\":\"ColumnDataSource\",\"id\":\"p3874\",\"attributes\":{\"selected\":{\"type\":\"object\",\"name\":\"Selection\",\"id\":\"p3876\",\"attributes\":{\"indices\":[],\"line_indices\":[]}},\"selection_policy\":{\"type\":\"object\",\"name\":\"UnionRenderers\",\"id\":\"p3875\"},\"data\":{\"type\":\"map\",\"entries\":[[\"image\",[{\"type\":\"ndarray\",\"array\":{\"type\":\"bytes\",\"data\":\"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\"},\"shape\":[25,21],\"dtype\":\"float64\",\"order\":\"little\"}]]]}}},\"view\":{\"type\":\"object\",\"name\":\"CDSView\",\"id\":\"p3884\",\"attributes\":{\"filter\":{\"type\":\"object\",\"name\":\"AllIndices\",\"id\":\"p3885\"}}},\"glyph\":{\"type\":\"object\",\"name\":\"Image\",\"id\":\"p3877\",\"attributes\":{\"x\":{\"type\":\"value\",\"value\":0},\"y\":{\"type\":\"value\",\"value\":0},\"dw\":{\"type\":\"value\",\"value\":28},\"dh\":{\"type\":\"value\",\"value\":25},\"image\":{\"type\":\"field\",\"field\":\"image\"},\"color_mapper\":{\"id\":\"p3766\"}}},\"nonselection_glyph\":{\"type\":\"object\",\"name\":\"Image\",\"id\":\"p3879\",\"attributes\":{\"x\":{\"type\":\"value\",\"value\":0},\"y\":{\"type\":\"value\",\"value\":0},\"dw\":{\"type\":\"value\",\"value\":28},\"dh\":{\"type\":\"value\",\"value\":25},\"global_alpha\":{\"type\":\"value\",\"value\":0.1},\"image\":{\"type\":\"field\",\"field\":\"image\"},\"color_mapper\":{\"id\":\"p3766\"}}},\"muted_glyph\":{\"type\":\"object\",\"name\":\"Image\",\"id\":\"p3881\",\"attributes\":{\"x\":{\"type\":\"value\",\"value\":0},\"y\":{\"type\":\"value\",\"value\":0},\"dw\":{\"type\":\"value\",\"value\":28},\"dh\":{\"type\":\"value\",\"value\":25},\"global_alpha\":{\"type\":\"value\",\"value\":0.2},\"image\":{\"type\":\"field\",\"field\":\"image\"},\"color_mapper\":{\"id\":\"p3766\"}}}}}],[\"AGN\",{\"type\":\"object\",\"name\":\"GlyphRenderer\",\"id\":\"p3895\",\"attributes\":{\"level\":\"image\",\"visible\":false,\"data_source\":{\"type\":\"object\",\"name\":\"ColumnDataSource\",\"id\":\"p3886\",\"attributes\":{\"selected\":{\"type\":\"object\",\"name\":\"Selection\",\"id\":\"p3888\",\"attributes\":{\"indices\":[],\"line_indices\":[]}},\"selection_policy\":{\"type\":\"object\",\"name\":\"UnionRenderers\",\"id\":\"p3887\"},\"data\":{\"type\":\"map\",\"entries\":[[\"image\",[{\"type\":\"ndarray\",\"array\":{\"type\":\"bytes\",\"data\":\"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\"},\"shape\":[25,21],\"dtype\":\"float64\",\"order\":\"little\"}]]]}}},\"view\":{\"type\":\"object\",\"name\":\"CDSView\",\"id\":\"p3896\",\"attributes\":{\"filter\":{\"type\":\"object\",\"name\":\"AllIndices\",\"id\":\"p3897\"}}},\"glyph\":{\"type\":\"object\",\"name\":\"Image\",\"id\":\"p3889\",\"attributes\":{\"x\":{\"type\":\"value\",\"value\":0},\"y\":{\"type\":\"value\",\"value\":0},\"dw\":{\"type\":\"value\",\"value\":28},\"dh\":{\"type\":\"value\",\"value\":25},\"image\":{\"type\":\"field\",\"field\":\"image\"},\"color_mapper\":{\"id\":\"p3766\"}}},\"nonselection_glyph\":{\"type\":\"object\",\"name\":\"Image\",\"id\":\"p3891\",\"attributes\":{\"x\":{\"type\":\"value\",\"value\":0},\"y\":{\"type\":\"value\",\"value\":0},\"dw\":{\"type\":\"value\",\"value\":28},\"dh\":{\"type\":\"value\",\"value\":25},\"global_alpha\":{\"type\":\"value\",\"value\":0.1},\"image\":{\"type\":\"field\",\"field\":\"image\"},\"color_mapper\":{\"id\":\"p3766\"}}},\"muted_glyph\":{\"type\":\"object\",\"name\":\"Image\",\"id\":\"p3893\",\"attributes\":{\"x\":{\"type\":\"value\",\"value\":0},\"y\":{\"type\":\"value\",\"value\":0},\"dw\":{\"type\":\"value\",\"value\":28},\"dh\":{\"type\":\"value\",\"value\":25},\"global_alpha\":{\"type\":\"value\",\"value\":0.2},\"image\":{\"type\":\"field\",\"field\":\"image\"},\"color_mapper\":{\"id\":\"p3766\"}}}}}]]}],[\"p\",{\"type\":\"object\",\"name\":\"Figure\",\"id\":\"p3767\",\"attributes\":{\"width\":670,\"height\":400,\"x_range\":{\"type\":\"object\",\"name\":\"DataRange1d\",\"id\":\"p3769\"},\"y_range\":{\"type\":\"object\",\"name\":\"DataRange1d\",\"id\":\"p3768\"},\"x_scale\":{\"type\":\"object\",\"name\":\"LinearScale\",\"id\":\"p3781\"},\"y_scale\":{\"type\":\"object\",\"name\":\"LinearScale\",\"id\":\"p3783\"},\"title\":{\"type\":\"object\",\"name\":\"Title\",\"id\":\"p3770\",\"attributes\":{\"text\":\"True Class: Ia; ALeRCE 3.1.0 balto 3.1.0\"}},\"renderers\":[{\"id\":\"p3823\"},{\"id\":\"p3835\"},{\"id\":\"p3847\"},{\"id\":\"p3859\"},{\"id\":\"p3871\"},{\"id\":\"p3883\"},{\"id\":\"p3895\"}],\"toolbar\":{\"type\":\"object\",\"name\":\"Toolbar\",\"id\":\"p3774\",\"attributes\":{\"tools\":[{\"type\":\"object\",\"name\":\"PanTool\",\"id\":\"p3799\"},{\"type\":\"object\",\"name\":\"WheelZoomTool\",\"id\":\"p3800\"},{\"type\":\"object\",\"name\":\"BoxZoomTool\",\"id\":\"p3801\",\"attributes\":{\"overlay\":{\"type\":\"object\",\"name\":\"BoxAnnotation\",\"id\":\"p3802\",\"attributes\":{\"syncable\":false,\"level\":\"overlay\",\"visible\":false,\"left_units\":\"canvas\",\"right_units\":\"canvas\",\"bottom_units\":\"canvas\",\"top_units\":\"canvas\",\"line_color\":\"black\",\"line_alpha\":1.0,\"line_width\":2,\"line_dash\":[4,4],\"fill_color\":\"lightgrey\",\"fill_alpha\":0.5}}}},{\"type\":\"object\",\"name\":\"SaveTool\",\"id\":\"p3803\"},{\"type\":\"object\",\"name\":\"ResetTool\",\"id\":\"p3804\"},{\"type\":\"object\",\"name\":\"HelpTool\",\"id\":\"p3805\"}]}},\"toolbar_location\":null,\"left\":[{\"type\":\"object\",\"name\":\"LinearAxis\",\"id\":\"p3792\",\"attributes\":{\"ticker\":{\"type\":\"object\",\"name\":\"FixedTicker\",\"id\":\"p3903\",\"attributes\":{\"ticks\":{\"type\":\"ndarray\",\"array\":{\"type\":\"bytes\",\"data\":\"AAAAAAEAAAACAAAAAwAAAAQAAAAFAAAABgAAAAcAAAAIAAAACQAAAAoAAAALAAAADAAAAA0AAAAOAAAADwAAABAAAAARAAAAEgAAABMAAAAUAAAAFQAAABYAAAAXAAAAGAAAAA==\"},\"shape\":[25],\"dtype\":\"int32\",\"order\":\"little\"},\"minor_ticks\":[]}},\"formatter\":{\"type\":\"object\",\"name\":\"BasicTickFormatter\",\"id\":\"p3793\"},\"axis_label\":\"Class\",\"major_label_overrides\":{\"type\":\"map\",\"entries\":[[0,\"SN-like/Other\"],[1,\"Ia\"],[2,\"Ib/c\"],[3,\"II\"],[4,\"Iax\"],[5,\"91bg\"],[6,\"Fast/Other\"],[7,\"KN\"],[8,\"M-dwarf Flare\"],[9,\"Dwarf Nova\"],[10,\"uLens\"],[11,\"Long/Other\"],[12,\"SLSN\"],[13,\"TDE\"],[14,\"ILOT\"],[15,\"CART\"],[16,\"PISN\"],[17,\"Periodic/Other\"],[18,\"Cepheid\"],[19,\"RR Lyrae\"],[20,\"Delta Scuti\"],[21,\"EB\"],[22,\"LPV/Mira\"],[23,\"Non-Periodic/Other\"],[24,\"AGN\"]]},\"major_label_policy\":{\"type\":\"object\",\"name\":\"AllLabels\",\"id\":\"p3795\"}}}],\"right\":[{\"type\":\"object\",\"name\":\"ColorBar\",\"id\":\"p3901\",\"attributes\":{\"location\":[0,0],\"title\":\"Probability\",\"title_text_align\":\"center\",\"major_label_policy\":{\"type\":\"object\",\"name\":\"NoOverlap\",\"id\":\"p3902\"},\"color_mapper\":{\"id\":\"p3766\"}}}],\"below\":[{\"type\":\"object\",\"name\":\"LinearAxis\",\"id\":\"p3785\",\"attributes\":{\"ticker\":{\"type\":\"object\",\"name\":\"FixedTicker\",\"id\":\"p3905\",\"attributes\":{\"ticks\":{\"type\":\"ndarray\",\"array\":{\"type\":\"bytes\",\"data\":\"AAAAAAAA4D8AAAAAAAASQAAAAAAAACFAAAAAAAAAKUAAAAAAAIAwQAAAAAAAgDRAAAAAAACAOEA=\"},\"shape\":[7],\"dtype\":\"float64\",\"order\":\"little\"},\"minor_ticks\":[]}},\"formatter\":{\"type\":\"object\",\"name\":\"BasicTickFormatter\",\"id\":\"p3786\"},\"axis_label\":\"\\u0394t rel. peak (days)\",\"major_label_overrides\":{\"type\":\"map\",\"entries\":[[0.5,\"-30.0\"],[4.5,\"-10.0\"],[8.5,\"10.0\"],[12.5,\"30.0\"],[16.5,\"50.0\"],[20.5,\"70.0\"],[24.5,\"90.0\"]]},\"major_label_policy\":{\"type\":\"object\",\"name\":\"AllLabels\",\"id\":\"p3788\"}}}],\"center\":[{\"type\":\"object\",\"name\":\"Grid\",\"id\":\"p3791\",\"attributes\":{\"axis\":{\"id\":\"p3785\"}}},{\"type\":\"object\",\"name\":\"Grid\",\"id\":\"p3798\",\"attributes\":{\"dimension\":1,\"axis\":{\"id\":\"p3792\"}}}]}}],[\"title_text\",\"ALeRCE 3.1.0 balto 3.1.0\"]]},\"code\":\"\\n\\n    for (const plot of Object.values(plot_dict)) {\\n        plot.visible = false;\\n    }\\n\\n    plot_dict[this.value].visible = true;\\n    p.title.text = \\\"True Class: \\\" + this.value + \\\"; \\\" + title_text;\\n\"}}]]]},\"title\":\"Plot to show:\",\"options\":[\"Ia\",\"Ib/c\",\"II\",\"SLSN\",\"Delta Scuti\",\"EB\",\"AGN\"],\"value\":\"Line 1\"}},{\"id\":\"p3767\"}]}}],\"callbacks\":{\"type\":\"map\"}}};\n  const render_items = [{\"docid\":\"aef22849-dcf6-48ba-84db-4b92a59052e6\",\"roots\":{\"p3900\":\"340ea843-a3eb-4bc3-8890-a310c23d2e6d\"},\"root_ids\":[\"p3900\"]}];\n  root.Bokeh.embed.embed_items_notebook(docs_json, render_items);\n  }\n  if (root.Bokeh !== undefined) {\n    embed_document(root);\n  } else {\n    let attempts = 0;\n    const timer = setInterval(function(root) {\n      if (root.Bokeh !== undefined) {\n        clearInterval(timer);\n        embed_document(root);\n      } else {\n        attempts++;\n        if (attempts > 100) {\n          clearInterval(timer);\n          console.log(\"Bokeh: ERROR: Unable to run BokehJS code because BokehJS library is missing\");\n        }\n      }\n    }, 10, root)\n  }\n})(window);",
      "application/vnd.bokehjs_exec.v0+json": ""
     },
     "metadata": {
      "application/vnd.bokehjs_exec.v0+json": {
       "id": "p3900"
      }
     },
     "output_type": "display_data"
    }
   ],
   "source": [
    "new_magma = list(Magma256)\n",
    "new_magma.reverse()\n",
    "color_mapper = LinearColorMapper(palette=new_magma, low=0, high=1)\n",
    "# Here we create an inverse of the original palette to more easily show differences in data\n",
    "cfertitle = f'{brokername} {brokerversion} {classifiername} {classifierparams}'\n",
    "\n",
    "pivot_tables = {}\n",
    "for key, value in trueClassResults.items():\n",
    "    pivot_table = pandas.pivot_table(value, values=\"prob\", columns=\"tbin\", index=\"classId\")\n",
    "    pivot_tables[key] = pivot_table\n",
    "\n",
    "\n",
    "p = figure(width=670, height=400, toolbar_location=None, title=f\"True Class: {list(pivot_tables.keys())[0]}; {cfertitle}\",\n",
    "           x_axis_label=\"Δt rel. peak (days)\", y_axis_label=\"Class\")\n",
    "\n",
    "plot_dict = {}\n",
    "for key, pivot_table in pivot_tables.items():\n",
    "    plot = p.image(image=[pivot_table.values[:, :]], x=0, y=0, dw=28, dh=25, color_mapper=color_mapper, level=\"image\")\n",
    "    plot.visible = False\n",
    "    plot_dict[key] = plot\n",
    "\n",
    "list(plot_dict.values())[0].visible = True\n",
    "\n",
    "select = Select(title=\"Plot to show:\", value=\"Line 1\", options=list(plot_dict.keys()))\n",
    "select.js_on_change(\"value\", CustomJS(args=dict(plot_dict=plot_dict, p=p, title_text=cfertitle), code=\"\"\"\n",
    "\n",
    "    for (const plot of Object.values(plot_dict)) {\n",
    "        plot.visible = false;\n",
    "    }\n",
    "\n",
    "    plot_dict[this.value].visible = true;\n",
    "    p.title.text = \"True Class: \" + this.value + \"; \" + title_text;\n",
    "\"\"\"))\n",
    "\n",
    "\n",
    "layout = column(select, p)\n",
    "color_bar = ColorBar(color_mapper=color_mapper, location=(0, 0), title='Probability', title_text_align='center')\n",
    "p.add_layout(color_bar, 'right')\n",
    "y_tick = np.arange(25)\n",
    "p.yaxis.ticker = y_tick\n",
    "name_arr = [emq.classname[i] for i in pivot_table.index.values]\n",
    "p.yaxis.major_label_overrides = {i: name for i, name in zip(y_tick, name_arr)}\n",
    "x_tick = np.arange(0, 28, 4) + 0.5\n",
    "p.xaxis.ticker = x_tick\n",
    "time_arr = emq.tbin_val(x_tick)\n",
    "p.xaxis.major_label_overrides = {i: str(name) for i, name in zip(x_tick, time_arr)}\n",
    "\n",
    "\n",
    "show(layout)\n",
    "#output_file(filename='/epyc/users/joseph02/public_html/bokeh_example_for_elasticc.html',\n",
    "            #title='Interactive Probability Histograms')\n",
    "#save(layout)\n"
   ]
  },
  {
   "cell_type": "markdown",
   "id": "8d164612-43a8-48f8-92fe-2f2ba6e839a7",
   "metadata": {},
   "source": [
    "# Next Steps"
   ]
  },
  {
   "attachments": {},
   "cell_type": "markdown",
   "id": "cab21280-742a-4dc6-8f92-305c834cea41",
   "metadata": {},
   "source": [
    "While this was an effective way of reducing the numeber of plots shown at once (thus reducing visual clutter) it can still be imporved upon.\n",
    "\n",
    "Sticking with the dropdown widget, we could start by adding multiple classifiers to compare and contrast their performance at identifying the same true class. This can be done by adding a multiselect tool that allows the user to pick precisely which classifiers and true classes they wish to analyze. To look solely at the graphs above, visit this link: https://epyc.astro.washington.edu/~joseph02/"
   ]
  }
 ],
 "metadata": {
  "kernelspec": {
   "display_name": "Python 3-ML_Base",
   "language": "python",
   "name": "python3-ml-base"
  },
  "language_info": {
   "codemirror_mode": {
    "name": "ipython",
    "version": 3
   },
   "file_extension": ".py",
   "mimetype": "text/x-python",
   "name": "python",
   "nbconvert_exporter": "python",
   "pygments_lexer": "ipython3",
   "version": "3.11.3"
  }
 },
 "nbformat": 4,
 "nbformat_minor": 5
}
