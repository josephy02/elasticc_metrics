{
 "cells": [
  {
   "cell_type": "markdown",
   "id": "db7e5bb4-e653-49c1-bf1f-5cc3d270c5f6",
   "metadata": {},
   "source": [
    "# Interactive Probability Distributions as a Function of Time"
   ]
  },
  {
   "cell_type": "markdown",
   "id": "79f7c32d-3be0-43d9-83e6-642c1a83a78f",
   "metadata": {
    "jp-MarkdownHeadingCollapsed": true,
    "tags": []
   },
   "source": [
    "### Objective: To help further develop the manual violin plots and offer alternative methods for the data visualization."
   ]
  },
  {
   "cell_type": "markdown",
   "id": "c6a1221f-db66-486f-99ae-fbcfae4c27cb",
   "metadata": {},
   "source": [
    "## Imports"
   ]
  },
  {
   "cell_type": "code",
   "execution_count": 1,
   "id": "cf75030a-f83f-44ac-a61e-859d00e3779a",
   "metadata": {},
   "outputs": [
    {
     "data": {
      "text/html": [
       "<style>\n",
       "        .bk-notebook-logo {\n",
       "            display: block;\n",
       "            width: 20px;\n",
       "            height: 20px;\n",
       "            background-image: url(data:image/png;base64,iVBORw0KGgoAAAANSUhEUgAAABQAAAAUCAYAAACNiR0NAAAABHNCSVQICAgIfAhkiAAAAAlwSFlzAAALEgAACxIB0t1+/AAAABx0RVh0U29mdHdhcmUAQWRvYmUgRmlyZXdvcmtzIENTNui8sowAAAOkSURBVDiNjZRtaJVlGMd/1/08zzln5zjP1LWcU9N0NkN8m2CYjpgQYQXqSs0I84OLIC0hkEKoPtiH3gmKoiJDU7QpLgoLjLIQCpEsNJ1vqUOdO7ppbuec5+V+rj4ctwzd8IIbbi6u+8f1539dt3A78eXC7QizUF7gyV1fD1Yqg4JWz84yffhm0qkFqBogB9rM8tZdtwVsPUhWhGcFJngGeWrPzHm5oaMmkfEg1usvLFyc8jLRqDOMru7AyC8saQr7GG7f5fvDeH7Ej8CM66nIF+8yngt6HWaKh7k49Soy9nXurCi1o3qUbS3zWfrYeQDTB/Qj6kX6Ybhw4B+bOYoLKCC9H3Nu/leUTZ1JdRWkkn2ldcCamzrcf47KKXdAJllSlxAOkRgyHsGC/zRday5Qld9DyoM4/q/rUoy/CXh3jzOu3bHUVZeU+DEn8FInkPBFlu3+nW3Nw0mk6vCDiWg8CeJaxEwuHS3+z5RgY+YBR6V1Z1nxSOfoaPa4LASWxxdNp+VWTk7+4vzaou8v8PN+xo+KY2xsw6une2frhw05CTYOmQvsEhjhWjn0bmXPjpE1+kplmmkP3suftwTubK9Vq22qKmrBhpY4jvd5afdRA3wGjFAgcnTK2s4hY0/GPNIb0nErGMCRxWOOX64Z8RAC4oCXdklmEvcL8o0BfkNK4lUg9HTl+oPlQxdNo3Mg4Nv175e/1LDGzZen30MEjRUtmXSfiTVu1kK8W4txyV6BMKlbgk3lMwYCiusNy9fVfvvwMxv8Ynl6vxoByANLTWplvuj/nF9m2+PDtt1eiHPBr1oIfhCChQMBw6Aw0UulqTKZdfVvfG7VcfIqLG9bcldL/+pdWTLxLUy8Qq38heUIjh4XlzZxzQm19lLFlr8vdQ97rjZVOLf8nclzckbcD4wxXMidpX30sFd37Fv/GtwwhzhxGVAprjbg0gCAEeIgwCZyTV2Z1REEW8O4py0wsjeloKoMr6iCY6dP92H6Vw/oTyICIthibxjm/DfN9lVz8IqtqKYLUXfoKVMVQVVJOElGjrnnUt9T9wbgp8AyYKaGlqingHZU/uG2NTZSVqwHQTWkx9hxjkpWDaCg6Ckj5qebgBVbT3V3NNXMSiWSDdGV3hrtzla7J+duwPOToIg42ChPQOQjspnSlp1V+Gjdged7+8UN5CRAV7a5EdFNwCjEaBR27b3W890TE7g24NAP/mMDXRWrGoFPQI9ls/MWO2dWFAar/xcOIImbbpA3zgAAAABJRU5ErkJggg==);\n",
       "        }\n",
       "    </style>\n",
       "    <div>\n",
       "        <a href=\"https://bokeh.org\" target=\"_blank\" class=\"bk-notebook-logo\"></a>\n",
       "        <span id=\"p1001\">Loading BokehJS ...</span>\n",
       "    </div>\n"
      ]
     },
     "metadata": {},
     "output_type": "display_data"
    },
    {
     "data": {
      "application/javascript": [
       "(function(root) {\n",
       "  function now() {\n",
       "    return new Date();\n",
       "  }\n",
       "\n",
       "  const force = true;\n",
       "\n",
       "  if (typeof root._bokeh_onload_callbacks === \"undefined\" || force === true) {\n",
       "    root._bokeh_onload_callbacks = [];\n",
       "    root._bokeh_is_loading = undefined;\n",
       "  }\n",
       "\n",
       "const JS_MIME_TYPE = 'application/javascript';\n",
       "  const HTML_MIME_TYPE = 'text/html';\n",
       "  const EXEC_MIME_TYPE = 'application/vnd.bokehjs_exec.v0+json';\n",
       "  const CLASS_NAME = 'output_bokeh rendered_html';\n",
       "\n",
       "  /**\n",
       "   * Render data to the DOM node\n",
       "   */\n",
       "  function render(props, node) {\n",
       "    const script = document.createElement(\"script\");\n",
       "    node.appendChild(script);\n",
       "  }\n",
       "\n",
       "  /**\n",
       "   * Handle when an output is cleared or removed\n",
       "   */\n",
       "  function handleClearOutput(event, handle) {\n",
       "    const cell = handle.cell;\n",
       "\n",
       "    const id = cell.output_area._bokeh_element_id;\n",
       "    const server_id = cell.output_area._bokeh_server_id;\n",
       "    // Clean up Bokeh references\n",
       "    if (id != null && id in Bokeh.index) {\n",
       "      Bokeh.index[id].model.document.clear();\n",
       "      delete Bokeh.index[id];\n",
       "    }\n",
       "\n",
       "    if (server_id !== undefined) {\n",
       "      // Clean up Bokeh references\n",
       "      const cmd_clean = \"from bokeh.io.state import curstate; print(curstate().uuid_to_server['\" + server_id + \"'].get_sessions()[0].document.roots[0]._id)\";\n",
       "      cell.notebook.kernel.execute(cmd_clean, {\n",
       "        iopub: {\n",
       "          output: function(msg) {\n",
       "            const id = msg.content.text.trim();\n",
       "            if (id in Bokeh.index) {\n",
       "              Bokeh.index[id].model.document.clear();\n",
       "              delete Bokeh.index[id];\n",
       "            }\n",
       "          }\n",
       "        }\n",
       "      });\n",
       "      // Destroy server and session\n",
       "      const cmd_destroy = \"import bokeh.io.notebook as ion; ion.destroy_server('\" + server_id + \"')\";\n",
       "      cell.notebook.kernel.execute(cmd_destroy);\n",
       "    }\n",
       "  }\n",
       "\n",
       "  /**\n",
       "   * Handle when a new output is added\n",
       "   */\n",
       "  function handleAddOutput(event, handle) {\n",
       "    const output_area = handle.output_area;\n",
       "    const output = handle.output;\n",
       "\n",
       "    // limit handleAddOutput to display_data with EXEC_MIME_TYPE content only\n",
       "    if ((output.output_type != \"display_data\") || (!Object.prototype.hasOwnProperty.call(output.data, EXEC_MIME_TYPE))) {\n",
       "      return\n",
       "    }\n",
       "\n",
       "    const toinsert = output_area.element.find(\".\" + CLASS_NAME.split(' ')[0]);\n",
       "\n",
       "    if (output.metadata[EXEC_MIME_TYPE][\"id\"] !== undefined) {\n",
       "      toinsert[toinsert.length - 1].firstChild.textContent = output.data[JS_MIME_TYPE];\n",
       "      // store reference to embed id on output_area\n",
       "      output_area._bokeh_element_id = output.metadata[EXEC_MIME_TYPE][\"id\"];\n",
       "    }\n",
       "    if (output.metadata[EXEC_MIME_TYPE][\"server_id\"] !== undefined) {\n",
       "      const bk_div = document.createElement(\"div\");\n",
       "      bk_div.innerHTML = output.data[HTML_MIME_TYPE];\n",
       "      const script_attrs = bk_div.children[0].attributes;\n",
       "      for (let i = 0; i < script_attrs.length; i++) {\n",
       "        toinsert[toinsert.length - 1].firstChild.setAttribute(script_attrs[i].name, script_attrs[i].value);\n",
       "        toinsert[toinsert.length - 1].firstChild.textContent = bk_div.children[0].textContent\n",
       "      }\n",
       "      // store reference to server id on output_area\n",
       "      output_area._bokeh_server_id = output.metadata[EXEC_MIME_TYPE][\"server_id\"];\n",
       "    }\n",
       "  }\n",
       "\n",
       "  function register_renderer(events, OutputArea) {\n",
       "\n",
       "    function append_mime(data, metadata, element) {\n",
       "      // create a DOM node to render to\n",
       "      const toinsert = this.create_output_subarea(\n",
       "        metadata,\n",
       "        CLASS_NAME,\n",
       "        EXEC_MIME_TYPE\n",
       "      );\n",
       "      this.keyboard_manager.register_events(toinsert);\n",
       "      // Render to node\n",
       "      const props = {data: data, metadata: metadata[EXEC_MIME_TYPE]};\n",
       "      render(props, toinsert[toinsert.length - 1]);\n",
       "      element.append(toinsert);\n",
       "      return toinsert\n",
       "    }\n",
       "\n",
       "    /* Handle when an output is cleared or removed */\n",
       "    events.on('clear_output.CodeCell', handleClearOutput);\n",
       "    events.on('delete.Cell', handleClearOutput);\n",
       "\n",
       "    /* Handle when a new output is added */\n",
       "    events.on('output_added.OutputArea', handleAddOutput);\n",
       "\n",
       "    /**\n",
       "     * Register the mime type and append_mime function with output_area\n",
       "     */\n",
       "    OutputArea.prototype.register_mime_type(EXEC_MIME_TYPE, append_mime, {\n",
       "      /* Is output safe? */\n",
       "      safe: true,\n",
       "      /* Index of renderer in `output_area.display_order` */\n",
       "      index: 0\n",
       "    });\n",
       "  }\n",
       "\n",
       "  // register the mime type if in Jupyter Notebook environment and previously unregistered\n",
       "  if (root.Jupyter !== undefined) {\n",
       "    const events = require('base/js/events');\n",
       "    const OutputArea = require('notebook/js/outputarea').OutputArea;\n",
       "\n",
       "    if (OutputArea.prototype.mime_types().indexOf(EXEC_MIME_TYPE) == -1) {\n",
       "      register_renderer(events, OutputArea);\n",
       "    }\n",
       "  }\n",
       "  if (typeof (root._bokeh_timeout) === \"undefined\" || force === true) {\n",
       "    root._bokeh_timeout = Date.now() + 5000;\n",
       "    root._bokeh_failed_load = false;\n",
       "  }\n",
       "\n",
       "  const NB_LOAD_WARNING = {'data': {'text/html':\n",
       "     \"<div style='background-color: #fdd'>\\n\"+\n",
       "     \"<p>\\n\"+\n",
       "     \"BokehJS does not appear to have successfully loaded. If loading BokehJS from CDN, this \\n\"+\n",
       "     \"may be due to a slow or bad network connection. Possible fixes:\\n\"+\n",
       "     \"</p>\\n\"+\n",
       "     \"<ul>\\n\"+\n",
       "     \"<li>re-rerun `output_notebook()` to attempt to load from CDN again, or</li>\\n\"+\n",
       "     \"<li>use INLINE resources instead, as so:</li>\\n\"+\n",
       "     \"</ul>\\n\"+\n",
       "     \"<code>\\n\"+\n",
       "     \"from bokeh.resources import INLINE\\n\"+\n",
       "     \"output_notebook(resources=INLINE)\\n\"+\n",
       "     \"</code>\\n\"+\n",
       "     \"</div>\"}};\n",
       "\n",
       "  function display_loaded() {\n",
       "    const el = document.getElementById(\"p1001\");\n",
       "    if (el != null) {\n",
       "      el.textContent = \"BokehJS is loading...\";\n",
       "    }\n",
       "    if (root.Bokeh !== undefined) {\n",
       "      if (el != null) {\n",
       "        el.textContent = \"BokehJS \" + root.Bokeh.version + \" successfully loaded.\";\n",
       "      }\n",
       "    } else if (Date.now() < root._bokeh_timeout) {\n",
       "      setTimeout(display_loaded, 100)\n",
       "    }\n",
       "  }\n",
       "\n",
       "  function run_callbacks() {\n",
       "    try {\n",
       "      root._bokeh_onload_callbacks.forEach(function(callback) {\n",
       "        if (callback != null)\n",
       "          callback();\n",
       "      });\n",
       "    } finally {\n",
       "      delete root._bokeh_onload_callbacks\n",
       "    }\n",
       "    console.debug(\"Bokeh: all callbacks have finished\");\n",
       "  }\n",
       "\n",
       "  function load_libs(css_urls, js_urls, callback) {\n",
       "    if (css_urls == null) css_urls = [];\n",
       "    if (js_urls == null) js_urls = [];\n",
       "\n",
       "    root._bokeh_onload_callbacks.push(callback);\n",
       "    if (root._bokeh_is_loading > 0) {\n",
       "      console.debug(\"Bokeh: BokehJS is being loaded, scheduling callback at\", now());\n",
       "      return null;\n",
       "    }\n",
       "    if (js_urls == null || js_urls.length === 0) {\n",
       "      run_callbacks();\n",
       "      return null;\n",
       "    }\n",
       "    console.debug(\"Bokeh: BokehJS not loaded, scheduling load and callback at\", now());\n",
       "    root._bokeh_is_loading = css_urls.length + js_urls.length;\n",
       "\n",
       "    function on_load() {\n",
       "      root._bokeh_is_loading--;\n",
       "      if (root._bokeh_is_loading === 0) {\n",
       "        console.debug(\"Bokeh: all BokehJS libraries/stylesheets loaded\");\n",
       "        run_callbacks()\n",
       "      }\n",
       "    }\n",
       "\n",
       "    function on_error(url) {\n",
       "      console.error(\"failed to load \" + url);\n",
       "    }\n",
       "\n",
       "    for (let i = 0; i < css_urls.length; i++) {\n",
       "      const url = css_urls[i];\n",
       "      const element = document.createElement(\"link\");\n",
       "      element.onload = on_load;\n",
       "      element.onerror = on_error.bind(null, url);\n",
       "      element.rel = \"stylesheet\";\n",
       "      element.type = \"text/css\";\n",
       "      element.href = url;\n",
       "      console.debug(\"Bokeh: injecting link tag for BokehJS stylesheet: \", url);\n",
       "      document.body.appendChild(element);\n",
       "    }\n",
       "\n",
       "    for (let i = 0; i < js_urls.length; i++) {\n",
       "      const url = js_urls[i];\n",
       "      const element = document.createElement('script');\n",
       "      element.onload = on_load;\n",
       "      element.onerror = on_error.bind(null, url);\n",
       "      element.async = false;\n",
       "      element.src = url;\n",
       "      console.debug(\"Bokeh: injecting script tag for BokehJS library: \", url);\n",
       "      document.head.appendChild(element);\n",
       "    }\n",
       "  };\n",
       "\n",
       "  function inject_raw_css(css) {\n",
       "    const element = document.createElement(\"style\");\n",
       "    element.appendChild(document.createTextNode(css));\n",
       "    document.body.appendChild(element);\n",
       "  }\n",
       "\n",
       "  const js_urls = [\"https://cdn.bokeh.org/bokeh/release/bokeh-3.1.0.min.js\", \"https://cdn.bokeh.org/bokeh/release/bokeh-gl-3.1.0.min.js\", \"https://cdn.bokeh.org/bokeh/release/bokeh-widgets-3.1.0.min.js\", \"https://cdn.bokeh.org/bokeh/release/bokeh-tables-3.1.0.min.js\", \"https://cdn.bokeh.org/bokeh/release/bokeh-mathjax-3.1.0.min.js\"];\n",
       "  const css_urls = [];\n",
       "\n",
       "  const inline_js = [    function(Bokeh) {\n",
       "      Bokeh.set_log_level(\"info\");\n",
       "    },\n",
       "function(Bokeh) {\n",
       "    }\n",
       "  ];\n",
       "\n",
       "  function run_inline_js() {\n",
       "    if (root.Bokeh !== undefined || force === true) {\n",
       "          for (let i = 0; i < inline_js.length; i++) {\n",
       "      inline_js[i].call(root, root.Bokeh);\n",
       "    }\n",
       "if (force === true) {\n",
       "        display_loaded();\n",
       "      }} else if (Date.now() < root._bokeh_timeout) {\n",
       "      setTimeout(run_inline_js, 100);\n",
       "    } else if (!root._bokeh_failed_load) {\n",
       "      console.log(\"Bokeh: BokehJS failed to load within specified timeout.\");\n",
       "      root._bokeh_failed_load = true;\n",
       "    } else if (force !== true) {\n",
       "      const cell = $(document.getElementById(\"p1001\")).parents('.cell').data().cell;\n",
       "      cell.output_area.append_execute_result(NB_LOAD_WARNING)\n",
       "    }\n",
       "  }\n",
       "\n",
       "  if (root._bokeh_is_loading === 0) {\n",
       "    console.debug(\"Bokeh: BokehJS loaded, going straight to plotting\");\n",
       "    run_inline_js();\n",
       "  } else {\n",
       "    load_libs(css_urls, js_urls, function() {\n",
       "      console.debug(\"Bokeh: BokehJS plotting callback run at\", now());\n",
       "      run_inline_js();\n",
       "    });\n",
       "  }\n",
       "}(window));"
      ],
      "application/vnd.bokehjs_load.v0+json": "(function(root) {\n  function now() {\n    return new Date();\n  }\n\n  const force = true;\n\n  if (typeof root._bokeh_onload_callbacks === \"undefined\" || force === true) {\n    root._bokeh_onload_callbacks = [];\n    root._bokeh_is_loading = undefined;\n  }\n\n\n  if (typeof (root._bokeh_timeout) === \"undefined\" || force === true) {\n    root._bokeh_timeout = Date.now() + 5000;\n    root._bokeh_failed_load = false;\n  }\n\n  const NB_LOAD_WARNING = {'data': {'text/html':\n     \"<div style='background-color: #fdd'>\\n\"+\n     \"<p>\\n\"+\n     \"BokehJS does not appear to have successfully loaded. If loading BokehJS from CDN, this \\n\"+\n     \"may be due to a slow or bad network connection. Possible fixes:\\n\"+\n     \"</p>\\n\"+\n     \"<ul>\\n\"+\n     \"<li>re-rerun `output_notebook()` to attempt to load from CDN again, or</li>\\n\"+\n     \"<li>use INLINE resources instead, as so:</li>\\n\"+\n     \"</ul>\\n\"+\n     \"<code>\\n\"+\n     \"from bokeh.resources import INLINE\\n\"+\n     \"output_notebook(resources=INLINE)\\n\"+\n     \"</code>\\n\"+\n     \"</div>\"}};\n\n  function display_loaded() {\n    const el = document.getElementById(\"p1001\");\n    if (el != null) {\n      el.textContent = \"BokehJS is loading...\";\n    }\n    if (root.Bokeh !== undefined) {\n      if (el != null) {\n        el.textContent = \"BokehJS \" + root.Bokeh.version + \" successfully loaded.\";\n      }\n    } else if (Date.now() < root._bokeh_timeout) {\n      setTimeout(display_loaded, 100)\n    }\n  }\n\n  function run_callbacks() {\n    try {\n      root._bokeh_onload_callbacks.forEach(function(callback) {\n        if (callback != null)\n          callback();\n      });\n    } finally {\n      delete root._bokeh_onload_callbacks\n    }\n    console.debug(\"Bokeh: all callbacks have finished\");\n  }\n\n  function load_libs(css_urls, js_urls, callback) {\n    if (css_urls == null) css_urls = [];\n    if (js_urls == null) js_urls = [];\n\n    root._bokeh_onload_callbacks.push(callback);\n    if (root._bokeh_is_loading > 0) {\n      console.debug(\"Bokeh: BokehJS is being loaded, scheduling callback at\", now());\n      return null;\n    }\n    if (js_urls == null || js_urls.length === 0) {\n      run_callbacks();\n      return null;\n    }\n    console.debug(\"Bokeh: BokehJS not loaded, scheduling load and callback at\", now());\n    root._bokeh_is_loading = css_urls.length + js_urls.length;\n\n    function on_load() {\n      root._bokeh_is_loading--;\n      if (root._bokeh_is_loading === 0) {\n        console.debug(\"Bokeh: all BokehJS libraries/stylesheets loaded\");\n        run_callbacks()\n      }\n    }\n\n    function on_error(url) {\n      console.error(\"failed to load \" + url);\n    }\n\n    for (let i = 0; i < css_urls.length; i++) {\n      const url = css_urls[i];\n      const element = document.createElement(\"link\");\n      element.onload = on_load;\n      element.onerror = on_error.bind(null, url);\n      element.rel = \"stylesheet\";\n      element.type = \"text/css\";\n      element.href = url;\n      console.debug(\"Bokeh: injecting link tag for BokehJS stylesheet: \", url);\n      document.body.appendChild(element);\n    }\n\n    for (let i = 0; i < js_urls.length; i++) {\n      const url = js_urls[i];\n      const element = document.createElement('script');\n      element.onload = on_load;\n      element.onerror = on_error.bind(null, url);\n      element.async = false;\n      element.src = url;\n      console.debug(\"Bokeh: injecting script tag for BokehJS library: \", url);\n      document.head.appendChild(element);\n    }\n  };\n\n  function inject_raw_css(css) {\n    const element = document.createElement(\"style\");\n    element.appendChild(document.createTextNode(css));\n    document.body.appendChild(element);\n  }\n\n  const js_urls = [\"https://cdn.bokeh.org/bokeh/release/bokeh-3.1.0.min.js\", \"https://cdn.bokeh.org/bokeh/release/bokeh-gl-3.1.0.min.js\", \"https://cdn.bokeh.org/bokeh/release/bokeh-widgets-3.1.0.min.js\", \"https://cdn.bokeh.org/bokeh/release/bokeh-tables-3.1.0.min.js\", \"https://cdn.bokeh.org/bokeh/release/bokeh-mathjax-3.1.0.min.js\"];\n  const css_urls = [];\n\n  const inline_js = [    function(Bokeh) {\n      Bokeh.set_log_level(\"info\");\n    },\nfunction(Bokeh) {\n    }\n  ];\n\n  function run_inline_js() {\n    if (root.Bokeh !== undefined || force === true) {\n          for (let i = 0; i < inline_js.length; i++) {\n      inline_js[i].call(root, root.Bokeh);\n    }\nif (force === true) {\n        display_loaded();\n      }} else if (Date.now() < root._bokeh_timeout) {\n      setTimeout(run_inline_js, 100);\n    } else if (!root._bokeh_failed_load) {\n      console.log(\"Bokeh: BokehJS failed to load within specified timeout.\");\n      root._bokeh_failed_load = true;\n    } else if (force !== true) {\n      const cell = $(document.getElementById(\"p1001\")).parents('.cell').data().cell;\n      cell.output_area.append_execute_result(NB_LOAD_WARNING)\n    }\n  }\n\n  if (root._bokeh_is_loading === 0) {\n    console.debug(\"Bokeh: BokehJS loaded, going straight to plotting\");\n    run_inline_js();\n  } else {\n    load_libs(css_urls, js_urls, function() {\n      console.debug(\"Bokeh: BokehJS plotting callback run at\", now());\n      run_inline_js();\n    });\n  }\n}(window));"
     },
     "metadata": {},
     "output_type": "display_data"
    }
   ],
   "source": [
    "%matplotlib inline\n",
    "import sys\n",
    "import os\n",
    "import logging\n",
    "import numpy\n",
    "import pandas as pd\n",
    "import matplotlib\n",
    "from matplotlib import pyplot as plt\n",
    "import seaborn\n",
    "import sklearn\n",
    "import sklearn.metrics\n",
    "from bokeh.io import output_notebook, show\n",
    "output_notebook()\n",
    "import numpy as np\n",
    "from bokeh.models import ColumnDataSource, CustomJS, Range1d, Select, Dropdown, LabelSet, Slider\n",
    "from bokeh.plotting import figure, output_notebook, show, output_file, save\n",
    "from bokeh.layouts import column, row, gridplot\n",
    "\n",
    "from metric_querier import ELAsTiCCMetricsQuerier"
   ]
  },
  {
   "cell_type": "code",
   "execution_count": 2,
   "id": "31c6b271-a8ab-4de4-ba88-9795857642b5",
   "metadata": {},
   "outputs": [],
   "source": [
    "logger = logging.getLogger(__name__)\n",
    "if not logger.hasHandlers():\n",
    "    _logout = logging.StreamHandler( sys.stderr )\n",
    "    logger.addHandler( _logout )\n",
    "    _formatter = logging.Formatter( f'[%(asctime)s - %(levelname)s] - %(message)s', datefmt='%Y-%m-%d %H:%M:%S' )\n",
    "    _logout.setFormatter( _formatter )\n",
    "\n",
    "logger.setLevel( logging.DEBUG )"
   ]
  },
  {
   "cell_type": "code",
   "execution_count": 3,
   "id": "68b5228f-d849-4110-99d2-b85344a18b3a",
   "metadata": {},
   "outputs": [],
   "source": [
    "username = \"josephy\"\n",
    "with open( os.path.join(os.getenv(\"HOME\"), \"josephy_passwd.txt\")) as ifp:\n",
    "    password = ifp.readline().strip()\n",
    "    \n",
    "emq = ELAsTiCCMetricsQuerier( tomusername=username, tompasswd=password, logger=logger )"
   ]
  },
  {
   "cell_type": "markdown",
   "id": "b5e1c638-7d41-42d9-8cdc-5663636498d7",
   "metadata": {},
   "source": [
    "Substitute the `username` and `password` variables with the appropriate username and file containing your password. Contact Rob Knop (raknop@lbl.gov) for more details."
   ]
  },
  {
   "cell_type": "markdown",
   "id": "a77cf7ed-5c2e-44ba-8bff-8b9c2a451b59",
   "metadata": {
    "tags": []
   },
   "source": [
    "# Loading in the Data"
   ]
  },
  {
   "cell_type": "code",
   "execution_count": 4,
   "id": "9136f471-d5ea-479c-8857-736876b251e7",
   "metadata": {},
   "outputs": [
    {
     "name": "stderr",
     "output_type": "stream",
     "text": [
      "[2023-06-05 22:51:53 - DEBUG] - Sending query to get probabilistic metrics histogram table\n",
      "[2023-06-05 22:52:09 - DEBUG] - Got response, pandifying\n",
      "[2023-06-05 22:52:13 - DEBUG] - Done\n"
     ]
    }
   ],
   "source": [
    "probhist = emq.probhist()"
   ]
  },
  {
   "cell_type": "markdown",
   "id": "bbacab0b-2b9d-4202-a61b-daaf4ccf557e",
   "metadata": {},
   "source": [
    "Print `probhist` for a better understanding of what you're working with."
   ]
  },
  {
   "cell_type": "code",
   "execution_count": 5,
   "id": "8498246c-dfd4-4c56-8f13-0e1bcaaeeea9",
   "metadata": {},
   "outputs": [],
   "source": [
    "# This one is important\n",
    "# For each true class, a list of \"confusion classes\" to plot alongside it.\n",
    "# The right thing to do is hard... you have to know what's in the data already!\n",
    "confusionclasses = {\n",
    "    # Ia -> Ia, Ibc, II, PISN, SLSN, TDE\n",
    "    # 111: [ 111, 112, 113, 135, 131, 132 ],\n",
    "    111: [111, 113]\n",
    "}"
   ]
  },
  {
   "cell_type": "markdown",
   "id": "6e3ff2ff-1fa1-4092-a993-26af65608226",
   "metadata": {},
   "source": [
    "The variable `cferstodo` defines which classifier we're choosing to analyze.\n",
    "For a full list of available classifiers enter the following command `list(emq.classifier_info.keys())` "
   ]
  },
  {
   "cell_type": "code",
   "execution_count": 6,
   "id": "0dc0f077-0948-4c88-931a-81b139994cde",
   "metadata": {},
   "outputs": [
    {
     "name": "stdout",
     "output_type": "stream",
     "text": [
      "Going to do classifiers: [40]\n",
      "Going to do classes: ['Ia']\n"
     ]
    }
   ],
   "source": [
    "cferstodo = [ 40 ]\n",
    "trueclasstodo = [ 111 ]\n",
    "\n",
    "# Every time bin is overwhelming.  Choose some time bins to do\n",
    "# Let's do -10 days, 0 days, 30 days, 60 days, and >=100 days\n",
    "tbinstodo = [5, 7, 13, 19, 27]\n",
    "\n",
    "print( f\"Going to do classifiers: {cferstodo}\" )\n",
    "print( f\"Going to do classes: {[emq.classname[i] for i in trueclasstodo]}\" )"
   ]
  },
  {
   "cell_type": "markdown",
   "id": "916927fe-c664-48b5-92ba-2d7b37d1f306",
   "metadata": {},
   "source": [
    "Let's take a look at what the original version of the plots looked like."
   ]
  },
  {
   "cell_type": "code",
   "execution_count": 7,
   "id": "a23cee4f-305e-47ae-9f94-4a9afe543e95",
   "metadata": {},
   "outputs": [
    {
     "name": "stderr",
     "output_type": "stream",
     "text": [
      "[2023-06-05 22:52:25 - DEBUG] - doing cfer 40, true class Ia\n"
     ]
    },
    {
     "data": {
      "image/png": "[encoded data removed]",
      "text/plain": [
       "<Figure size 1600x600 with 1 Axes>"
      ]
     },
     "metadata": {},
     "output_type": "display_data"
    }
   ],
   "source": [
    "for cfer in cferstodo:\n",
    "    brokername = emq.classifier_info[cfer]['brokerName']\n",
    "    brokerversion = emq.classifier_info[cfer]['brokerVersion']\n",
    "    classifiername = emq.classifier_info[cfer]['classifierName']\n",
    "    classifierparams = emq.classifier_info[cfer]['classifierParams']\n",
    "    cfertitle = f'{brokername} {brokerversion} {classifiername} {classifierparams}'\n",
    "    for trueclass in trueclasstodo:\n",
    "        logger.debug( f\"doing cfer {cfer}, true class {emq.classname[trueclass]}\" )\n",
    "        subdf = probhist.xs( ( cfer, trueclass ), level=( 'classifierId', 'trueClassId' ) )\n",
    "        probdf = subdf / subdf.groupby( ['classId', 'tbin'] ).sum()\n",
    "        probdf.reset_index( inplace=True )\n",
    "        probdf.set_index( ['tbin', 'probbin', 'classId'], inplace=True )\n",
    "        # Extract just the t bins to do\n",
    "        probdf = probdf.loc[ pd.IndexSlice[ tbinstodo, :, : ] ]\n",
    "        # Calculate probabilities\n",
    "        probdf.reset_index( inplace=True )\n",
    "        probdf['prob'] = emq.probbin_val( probdf['probbin'] )\n",
    "        probdf.set_index( [ 'tbin', 'classId' ], inplace=True )\n",
    "        \n",
    "        fig = plt.figure( figsize=(16, 6), tight_layout=True )\n",
    "        ax = fig.add_subplot( 1, 1, 1 )\n",
    "        ax.set_title( f\"{cfertitle}\\nTrue class {emq.classname[trueclass]}\" )\n",
    "        \n",
    "        tdex = numpy.arange( len(tbinstodo) )\n",
    "        ax.set_xlim( tdex[0] - 1 , tdex[-1] + 1 )\n",
    "        ax.set_ylim( 0., 1.)\n",
    "        ax.set_xticks( tdex )\n",
    "        ax.set_xticklabels( [ emq.tbin_val(i) for i in tbinstodo ] )\n",
    "        ax.set_xlabel( 'Δt (days)' )\n",
    "        ax.set_ylabel( 'probability' )\n",
    "        \n",
    "        # I'm doing violin plots \"manually\" here since the actual violin plot methods\n",
    "        # assume you're feeding it raw data, but what we have is binned data.\n",
    "        \n",
    "        for ti in tdex:\n",
    "            for confdex in range(len(confusionclasses[trueclass])):\n",
    "                confoff = 0.85 * ( confdex - len(confusionclasses[trueclass])/2. ) / len(confusionclasses[trueclass])\n",
    "                thist = probdf.xs( ( tbinstodo[ti], confusionclasses[trueclass][confdex] ), level=( 'tbin', 'classId' ) )\n",
    "                # display(thist)\n",
    "                yvals = thist['prob']\n",
    "                xvals = ti + thist['count']\n",
    "                \n",
    "                if ( ti == 0 ) :\n",
    "                    ax.plot( confoff + ti + 0.4*thist['count'], thist['prob'], color=confusioncolors[confdex],\n",
    "                             label=emq.classname[ confusionclasses[trueclass][confdex] ] )\n",
    "                else:\n",
    "                    ax.plot( confoff + ti + 0.4*thist['count'], thist['prob'], color=confusioncolors[confdex] )\n",
    "                ax.plot( confoff + ti - 0.4*thist['count'], thist['prob'], color=confusioncolors[confdex] )\n",
    "            \n",
    "        ax.legend()\n",
    "        fig.show()\n",
    "            \n",
    "        "
   ]
  },
  {
   "cell_type": "markdown",
   "id": "784db1d7-2e93-45fb-b12a-17368d2b7155",
   "metadata": {},
   "source": [
    "We define one true class and remove the `for` loop that loops through the \n",
    "available time bins and write `ti = 3`, for example. Here's what the output should look like. Note: we got rid of the variable `confoff` to center the plot on its respective time bin."
   ]
  },
  {
   "cell_type": "code",
   "execution_count": 8,
   "id": "f609fd11-bd37-44e6-bcfa-395b63e6511f",
   "metadata": {},
   "outputs": [
    {
     "name": "stderr",
     "output_type": "stream",
     "text": [
      "[2023-06-05 22:53:13 - DEBUG] - doing cfer 40, true class Ia\n",
      "No artists with labels found to put in legend.  Note that artists whose label start with an underscore are ignored when legend() is called with no argument.\n"
     ]
    },
    {
     "data": {
      "image/png": "[encoded data removed]",
      "text/plain": [
       "<Figure size 1600x600 with 1 Axes>"
      ]
     },
     "metadata": {},
     "output_type": "display_data"
    }
   ],
   "source": [
    "for cfer in cferstodo:\n",
    "    brokername = emq.classifier_info[cfer]['brokerName']\n",
    "    brokerversion = emq.classifier_info[cfer]['brokerVersion']\n",
    "    classifiername = emq.classifier_info[cfer]['classifierName']\n",
    "    classifierparams = emq.classifier_info[cfer]['classifierParams']\n",
    "    cfertitle = f'{brokername} {brokerversion} {classifiername} {classifierparams}'\n",
    "    \n",
    "    \n",
    "    trueclass = 111\n",
    "    logger.debug( f\"doing cfer {cfer}, true class {emq.classname[trueclass]}\" )\n",
    "    subdf = probhist.xs( ( cfer, trueclass ), level=( 'classifierId', 'trueClassId' ) )\n",
    "    probdf = subdf / subdf.groupby( ['classId', 'tbin'] ).sum()\n",
    "    probdf.reset_index( inplace=True )\n",
    "    probdf.set_index( ['tbin', 'probbin', 'classId'], inplace=True )\n",
    "    # Extract just the t bins to do\n",
    "    probdf = probdf.loc[ pd.IndexSlice[ tbinstodo, :, : ] ]\n",
    "    # Calculate probabilities\n",
    "    probdf.reset_index( inplace=True )\n",
    "    probdf['prob'] = emq.probbin_val( probdf['probbin'] )\n",
    "    probdf.set_index( [ 'tbin', 'classId' ], inplace=True )\n",
    "\n",
    "    fig = plt.figure( figsize=(16, 6), tight_layout=True )\n",
    "    ax = fig.add_subplot( 1, 1, 1 )\n",
    "    ax.set_title( f\"{cfertitle}\\nTrue class {emq.classname[trueclass]}\" )\n",
    "\n",
    "    tdex = numpy.arange( len(tbinstodo) )\n",
    "#     ax.set_xlim( tdex[0] - 1 , tdex[-1] + 1 )\n",
    "#     ax.set_ylim( 0., 1.)\n",
    "#     ax.set_xticks( tdex )\n",
    "#     ax.set_xticklabels( [ emq.tbin_val(i) for i in tbinstodo ] )\n",
    "    ax.set_xlabel( 'Δt (days)' )\n",
    "    ax.set_ylabel( 'probability' )\n",
    "\n",
    "    # I'm doing violin plots \"manually\" here since the actual violin plot methods\n",
    "    # assume you're feeding it raw data, but what we have is binned data.\n",
    "    num_confusions = min(1, len(confusionclasses[trueclass]))\n",
    "    ti = 3\n",
    "    for confdex in range(num_confusions):\n",
    "        confoff = 0.85 * ( confdex - num_confusions/2. ) / num_confusions\n",
    "        thist = probdf.xs( ( tbinstodo[ti], confusionclasses[trueclass][confdex] ), level=( 'tbin', 'classId' ) )\n",
    "        # display(thist)\n",
    "        yvals = thist['prob']\n",
    "        xvals = ti + thist['count']\n",
    "\n",
    "        if ( ti == 0 ) :\n",
    "            ax.plot(ti + 0.4*thist['count'], thist['prob'], color=confusioncolors[confdex],\n",
    "                     label=emq.classname[ confusionclasses[trueclass][confdex] ] )\n",
    "        else:\n",
    "            ax.plot(ti + 0.4*thist['count'], thist['prob'], color=confusioncolors[confdex] )\n",
    "        ax.plot(ti - 0.4*thist['count'], thist['prob'], color=confusioncolors[confdex] )\n",
    "    ax.set_xlim( tdex[ti] -1 , tdex[ti]+1)\n",
    "    ax.set_ylim( 0., 1.)\n",
    "    ax.legend()\n",
    "    fig.show()"
   ]
  },
  {
   "cell_type": "markdown",
   "id": "ad402d46-23f4-4af0-9416-36414440158d",
   "metadata": {},
   "source": [
    "The following code is incredibly important to the functionality of these plots.\n",
    "We'll create an empty list called `x_all` and populate this list with multiple lists containing the time bin and the probablility for both the true and confusion class."
   ]
  },
  {
   "cell_type": "code",
   "execution_count": 9,
   "id": "7abc379b-fba8-488a-81df-1c3ce59f7a64",
   "metadata": {},
   "outputs": [],
   "source": [
    "num_confusions = len(confusionclasses[trueclass])\n",
    "ti = 0\n",
    "x_all = []\n",
    "for ti in range(len(tbinstodo)):\n",
    "    ti_list = []\n",
    "    for confdex in range(num_confusions):\n",
    "        confoff = 0.85 * ( confdex - num_confusions/2. ) / num_confusions\n",
    "        thist = probdf.xs( ( tbinstodo[ti], confusionclasses[trueclass][confdex] ), level=( 'tbin', 'classId' ) )\n",
    "        yvals = thist['prob']\n",
    "        xvals = thist['count']\n",
    "        ti_list.append(xvals)\n",
    "    x_all.append(ti_list)"
   ]
  },
  {
   "cell_type": "markdown",
   "id": "77610fdb-00f9-4762-90d0-1acc745d09ca",
   "metadata": {},
   "source": [
    "Now we can plot use `Bokeh`. We plot the manual violin plot as two individual line plots."
   ]
  },
  {
   "cell_type": "code",
   "execution_count": 11,
   "id": "983a3c3e-ac69-487d-835d-5214a9c2c750",
   "metadata": {},
   "outputs": [
    {
     "data": {
      "text/html": [
       "\n",
       "  <div id=\"7bb0572f-abef-4c8b-8c44-d6a0edf6e181\" data-root-id=\"p1002\" style=\"display: contents;\"></div>\n"
      ]
     },
     "metadata": {},
     "output_type": "display_data"
    },
    {
     "data": {
      "application/javascript": [
       "(function(root) {\n",
       "  function embed_document(root) {\n",
       "  const docs_json = {\"e9ff7f05-29fd-466d-80ca-9f17cf6ab7c9\":{\"version\":\"3.1.0\",\"title\":\"Bokeh Application\",\"defs\":[],\"roots\":[{\"type\":\"object\",\"name\":\"Figure\",\"id\":\"p1002\",\"attributes\":{\"x_range\":{\"type\":\"object\",\"name\":\"DataRange1d\",\"id\":\"p1003\"},\"y_range\":{\"type\":\"object\",\"name\":\"DataRange1d\",\"id\":\"p1004\"},\"x_scale\":{\"type\":\"object\",\"name\":\"LinearScale\",\"id\":\"p1016\"},\"y_scale\":{\"type\":\"object\",\"name\":\"LinearScale\",\"id\":\"p1018\"},\"title\":{\"type\":\"object\",\"name\":\"Title\",\"id\":\"p1005\",\"attributes\":{\"text\":\"True Class Ia\"}},\"renderers\":[{\"type\":\"object\",\"name\":\"GlyphRenderer\",\"id\":\"p1055\",\"attributes\":{\"data_source\":{\"type\":\"object\",\"name\":\"ColumnDataSource\",\"id\":\"p1049\",\"attributes\":{\"selected\":{\"type\":\"object\",\"name\":\"Selection\",\"id\":\"p1051\",\"attributes\":{\"indices\":[],\"line_indices\":[]}},\"selection_policy\":{\"type\":\"object\",\"name\":\"UnionRenderers\",\"id\":\"p1050\"},\"data\":{\"type\":\"map\",\"entries\":[[\"x\",{\"type\":\"ndarray\",\"array\":{\"type\":\"bytes\",\"data\":\"ouW3R+imEEDfOnqttRoQQL342hn7EBBAYsZRo1kNEEDV4VigGAsQQLEwrwLqCRBAVplPaM0IEEBB5FFGEwgQQDGjITOqBxBAVx5bnsQHEEBLDHQCuAcQQNbLOvqKBxBA5gxrDfQHEECxsL0/7wcQQNEyHmbBCBBAOgaxGlUJEEBon/XVJQsQQPqX/zY5DRBA3dr38EsSEEBSh4D7bCgQQA==\"},\"shape\":[20],\"dtype\":\"float64\",\"order\":\"little\"}],[\"y\",{\"type\":\"ndarray\",\"array\":{\"type\":\"bytes\",\"data\":\"mpmZmZmZmT80MzMzMzOzPwAAAAAAAMA/Z2ZmZmZmxj/NzMzMzMzMP5qZmZmZmdE/zszMzMzM1D8BAAAAAADYPzQzMzMzM9s/Z2ZmZmZm3j/NzMzMzMzgP2dmZmZmZuI/AQAAAAAA5D+amZmZmZnlPzQzMzMzM+c/zczMzMzM6D9nZmZmZmbqPwEAAAAAAOw/mpmZmZmZ7T80MzMzMzPvPw==\"},\"shape\":[20],\"dtype\":\"float64\",\"order\":\"little\"}]]}}},\"view\":{\"type\":\"object\",\"name\":\"CDSView\",\"id\":\"p1056\",\"attributes\":{\"filter\":{\"type\":\"object\",\"name\":\"AllIndices\",\"id\":\"p1057\"}}},\"glyph\":{\"type\":\"object\",\"name\":\"Line\",\"id\":\"p1052\",\"attributes\":{\"x\":{\"type\":\"field\",\"field\":\"x\"},\"y\":{\"type\":\"field\",\"field\":\"y\"},\"line_color\":\"#1f77b4\",\"line_width\":2}},\"nonselection_glyph\":{\"type\":\"object\",\"name\":\"Line\",\"id\":\"p1053\",\"attributes\":{\"x\":{\"type\":\"field\",\"field\":\"x\"},\"y\":{\"type\":\"field\",\"field\":\"y\"},\"line_color\":\"#1f77b4\",\"line_alpha\":0.1,\"line_width\":2}},\"muted_glyph\":{\"type\":\"object\",\"name\":\"Line\",\"id\":\"p1054\",\"attributes\":{\"x\":{\"type\":\"field\",\"field\":\"x\"},\"y\":{\"type\":\"field\",\"field\":\"y\"},\"line_color\":\"#1f77b4\",\"line_alpha\":0.2,\"line_width\":2}}}},{\"type\":\"object\",\"name\":\"GlyphRenderer\",\"id\":\"p1066\",\"attributes\":{\"data_source\":{\"type\":\"object\",\"name\":\"ColumnDataSource\",\"id\":\"p1060\",\"attributes\":{\"selected\":{\"type\":\"object\",\"name\":\"Selection\",\"id\":\"p1062\",\"attributes\":{\"indices\":[],\"line_indices\":[]}},\"selection_policy\":{\"type\":\"object\",\"name\":\"UnionRenderers\",\"id\":\"p1061\"},\"data\":{\"type\":\"map\",\"entries\":[[\"x\",{\"type\":\"ndarray\",\"array\":{\"type\":\"bytes\",\"data\":\"vDSQcC+yDkBCigullMoPQIYOSswJ3g9APHNcuUzlD0BWPE6/zukPQJ2eofor7A9AVM1gL2XuD0B+N1xz2e8PQJ25vJmr8A9AUsNJw3bwD0Bq5xf7j/APQFNoigvq8A9ANOYp5RfwD0CenoSAIfAPQF+awzN97g9Ai/OdylXtD0AxwRRUtOkPQAzQAJKN5Q9ARkoQHmjbD0Bb8f4IJq8PQA==\"},\"shape\":[20],\"dtype\":\"float64\",\"order\":\"little\"}],[\"y\",{\"type\":\"ndarray\",\"array\":{\"type\":\"bytes\",\"data\":\"mpmZmZmZmT80MzMzMzOzPwAAAAAAAMA/Z2ZmZmZmxj/NzMzMzMzMP5qZmZmZmdE/zszMzMzM1D8BAAAAAADYPzQzMzMzM9s/Z2ZmZmZm3j/NzMzMzMzgP2dmZmZmZuI/AQAAAAAA5D+amZmZmZnlPzQzMzMzM+c/zczMzMzM6D9nZmZmZmbqPwEAAAAAAOw/mpmZmZmZ7T80MzMzMzPvPw==\"},\"shape\":[20],\"dtype\":\"float64\",\"order\":\"little\"}]]}}},\"view\":{\"type\":\"object\",\"name\":\"CDSView\",\"id\":\"p1067\",\"attributes\":{\"filter\":{\"type\":\"object\",\"name\":\"AllIndices\",\"id\":\"p1068\"}}},\"glyph\":{\"type\":\"object\",\"name\":\"Line\",\"id\":\"p1063\",\"attributes\":{\"x\":{\"type\":\"field\",\"field\":\"x\"},\"y\":{\"type\":\"field\",\"field\":\"y\"},\"line_color\":\"#1f77b4\",\"line_width\":2}},\"nonselection_glyph\":{\"type\":\"object\",\"name\":\"Line\",\"id\":\"p1064\",\"attributes\":{\"x\":{\"type\":\"field\",\"field\":\"x\"},\"y\":{\"type\":\"field\",\"field\":\"y\"},\"line_color\":\"#1f77b4\",\"line_alpha\":0.1,\"line_width\":2}},\"muted_glyph\":{\"type\":\"object\",\"name\":\"Line\",\"id\":\"p1065\",\"attributes\":{\"x\":{\"type\":\"field\",\"field\":\"x\"},\"y\":{\"type\":\"field\",\"field\":\"y\"},\"line_color\":\"#1f77b4\",\"line_alpha\":0.2,\"line_width\":2}}}}],\"toolbar\":{\"type\":\"object\",\"name\":\"Toolbar\",\"id\":\"p1010\",\"attributes\":{\"tools\":[{\"type\":\"object\",\"name\":\"PanTool\",\"id\":\"p1034\"},{\"type\":\"object\",\"name\":\"WheelZoomTool\",\"id\":\"p1035\"},{\"type\":\"object\",\"name\":\"BoxZoomTool\",\"id\":\"p1036\",\"attributes\":{\"overlay\":{\"type\":\"object\",\"name\":\"BoxAnnotation\",\"id\":\"p1037\",\"attributes\":{\"syncable\":false,\"level\":\"overlay\",\"visible\":false,\"left_units\":\"canvas\",\"right_units\":\"canvas\",\"bottom_units\":\"canvas\",\"top_units\":\"canvas\",\"line_color\":\"black\",\"line_alpha\":1.0,\"line_width\":2,\"line_dash\":[4,4],\"fill_color\":\"lightgrey\",\"fill_alpha\":0.5}}}},{\"type\":\"object\",\"name\":\"SaveTool\",\"id\":\"p1038\"},{\"type\":\"object\",\"name\":\"ResetTool\",\"id\":\"p1039\"},{\"type\":\"object\",\"name\":\"HelpTool\",\"id\":\"p1040\"}]}},\"left\":[{\"type\":\"object\",\"name\":\"LinearAxis\",\"id\":\"p1027\",\"attributes\":{\"ticker\":{\"type\":\"object\",\"name\":\"BasicTicker\",\"id\":\"p1028\",\"attributes\":{\"mantissas\":[1,2,5]}},\"formatter\":{\"type\":\"object\",\"name\":\"BasicTickFormatter\",\"id\":\"p1029\"},\"axis_label\":\"Probability\",\"major_label_policy\":{\"type\":\"object\",\"name\":\"AllLabels\",\"id\":\"p1030\"}}}],\"below\":[{\"type\":\"object\",\"name\":\"LinearAxis\",\"id\":\"p1020\",\"attributes\":{\"ticker\":{\"type\":\"object\",\"name\":\"BasicTicker\",\"id\":\"p1021\",\"attributes\":{\"mantissas\":[1,2,5]}},\"formatter\":{\"type\":\"object\",\"name\":\"BasicTickFormatter\",\"id\":\"p1022\"},\"axis_label\":\"days\",\"major_label_policy\":{\"type\":\"object\",\"name\":\"AllLabels\",\"id\":\"p1023\"}}}],\"center\":[{\"type\":\"object\",\"name\":\"Grid\",\"id\":\"p1026\",\"attributes\":{\"axis\":{\"id\":\"p1020\"}}},{\"type\":\"object\",\"name\":\"Grid\",\"id\":\"p1033\",\"attributes\":{\"dimension\":1,\"axis\":{\"id\":\"p1027\"}}},{\"type\":\"object\",\"name\":\"Legend\",\"id\":\"p1058\",\"attributes\":{\"items\":[{\"type\":\"object\",\"name\":\"LegendItem\",\"id\":\"p1059\",\"attributes\":{\"label\":{\"type\":\"value\",\"value\":\"class\"},\"renderers\":[{\"id\":\"p1055\"},{\"id\":\"p1066\"}]}}]}}]}}],\"callbacks\":{\"type\":\"map\"}}};\n",
       "  const render_items = [{\"docid\":\"e9ff7f05-29fd-466d-80ca-9f17cf6ab7c9\",\"roots\":{\"p1002\":\"7bb0572f-abef-4c8b-8c44-d6a0edf6e181\"},\"root_ids\":[\"p1002\"]}];\n",
       "  root.Bokeh.embed.embed_items_notebook(docs_json, render_items);\n",
       "  }\n",
       "  if (root.Bokeh !== undefined) {\n",
       "    embed_document(root);\n",
       "  } else {\n",
       "    let attempts = 0;\n",
       "    const timer = setInterval(function(root) {\n",
       "      if (root.Bokeh !== undefined) {\n",
       "        clearInterval(timer);\n",
       "        embed_document(root);\n",
       "      } else {\n",
       "        attempts++;\n",
       "        if (attempts > 100) {\n",
       "          clearInterval(timer);\n",
       "          console.log(\"Bokeh: ERROR: Unable to run BokehJS code because BokehJS library is missing\");\n",
       "        }\n",
       "      }\n",
       "    }, 10, root)\n",
       "  }\n",
       "})(window);"
      ],
      "application/vnd.bokehjs_exec.v0+json": ""
     },
     "metadata": {
      "application/vnd.bokehjs_exec.v0+json": {
       "id": "p1002"
      }
     },
     "output_type": "display_data"
    }
   ],
   "source": [
    "p = figure(title=\"True Class Ia\", x_axis_label='days', y_axis_label='Probability')\n",
    "p.line(ti + 0.4*thist['count'], thist['prob'], legend_label=\"class\", line_width=2)\n",
    "p.line(ti - 0.4*thist['count'], thist['prob'], legend_label=\"class\", line_width=2)\n",
    "show(p)"
   ]
  },
  {
   "cell_type": "markdown",
   "id": "91d6d718-0e0a-465c-8000-f273b0b861fe",
   "metadata": {},
   "source": [
    "From here, we'll plot both the true class and the confusion class side by side and link the two by linking the plot ranges (see line 16 below). We also went ahead and added a slider using Bokeh's `Slider` function that steps through the time indicies and updates the plot in real time. "
   ]
  },
  {
   "cell_type": "code",
   "execution_count": 13,
   "id": "43a149e2-69b0-4c5c-975b-f7d13a600e8d",
   "metadata": {},
   "outputs": [
    {
     "data": {
      "text/html": [
       "\n",
       "  <div id=\"600e5e39-5ff7-43f7-a111-d3361e6273e7\" data-root-id=\"p1746\" style=\"display: contents;\"></div>\n"
      ]
     },
     "metadata": {},
     "output_type": "display_data"
    },
    {
     "data": {
      "application/javascript": [
       "(function(root) {\n",
       "  function embed_document(root) {\n",
       "  const docs_json = {\"ab749f06-54c6-4a4e-9c5f-71c13edba684\":{\"version\":\"3.1.0\",\"title\":\"Bokeh Application\",\"defs\":[],\"roots\":[{\"type\":\"object\",\"name\":\"Column\",\"id\":\"p1746\",\"attributes\":{\"children\":[{\"type\":\"object\",\"name\":\"Slider\",\"id\":\"p1744\",\"attributes\":{\"js_property_callbacks\":{\"type\":\"map\",\"entries\":[[\"change:value\",[{\"type\":\"object\",\"name\":\"CustomJS\",\"id\":\"p1743\",\"attributes\":{\"args\":{\"type\":\"map\",\"entries\":[[\"source1\",{\"type\":\"object\",\"name\":\"ColumnDataSource\",\"id\":\"p1599\",\"attributes\":{\"selected\":{\"type\":\"object\",\"name\":\"Selection\",\"id\":\"p1601\",\"attributes\":{\"indices\":[],\"line_indices\":[]}},\"selection_policy\":{\"type\":\"object\",\"name\":\"UnionRenderers\",\"id\":\"p1600\"},\"data\":{\"type\":\"map\",\"entries\":[[\"x\",{\"type\":\"ndarray\",\"array\":{\"type\":\"bytes\",\"data\":\"5o456PkFHcC0m/8PXd8dwJfYbB7K6x3AwvcnKTDxHcDJgdS/EvQdwDT0L2cd9h3A3D5UFbX3HcDi9yhM3PgdwKee5bDr+R3AbjtW5Y76HcBUmoeOBfsdwIJZ9p5b+x3A4aUZZYb7HcCqseJsqfsdwKiXKzu8+x3AjuFq/637HcCTcFtsy/sdwM0fXMSW+x3AIQgOjMj7HcCLhwQRs/wdwA==\"},\"shape\":[20],\"dtype\":\"float64\",\"order\":\"little\"}],[\"y\",{\"type\":\"ndarray\",\"array\":{\"type\":\"bytes\",\"data\":\"mpmZmZmZmT80MzMzMzOzPwAAAAAAAMA/Z2ZmZmZmxj/NzMzMzMzMP5qZmZmZmdE/zszMzMzM1D8BAAAAAADYPzQzMzMzM9s/Z2ZmZmZm3j/NzMzMzMzgP2dmZmZmZuI/AQAAAAAA5D+amZmZmZnlPzQzMzMzM+c/zczMzMzM6D9nZmZmZmbqPwEAAAAAAOw/mpmZmZmZ7T80MzMzMzPvPw==\"},\"shape\":[20],\"dtype\":\"float64\",\"order\":\"little\"}]]}}}],[\"source2\",{\"type\":\"object\",\"name\":\"ColumnDataSource\",\"id\":\"p1602\",\"attributes\":{\"selected\":{\"type\":\"object\",\"name\":\"Selection\",\"id\":\"p1604\",\"attributes\":{\"indices\":[],\"line_indices\":[]}},\"selection_policy\":{\"type\":\"object\",\"name\":\"UnionRenderers\",\"id\":\"p1603\"},\"data\":{\"type\":\"map\",\"entries\":[[\"x\",{\"type\":\"ndarray\",\"array\":{\"type\":\"bytes\",\"data\":\"GnHGFwb6HsBMZADwoiAewGknk+E1FB7APgjY1s8OHsA3fitA7QsewMwL0JjiCR7AJMGr6koIHsAeCNezIwcewFlhGk8UBh7AksSpGnEFHsCsZXhx+gQewH6mCWGkBB7AH1rmmnkEHsBWTh2TVgQewFho1MRDBB7Ach6VAFIEHsBtj6STNAQewDPgoztpBB7A3/fxczcEHsB1ePvuTAMewA==\"},\"shape\":[20],\"dtype\":\"float64\",\"order\":\"little\"}],[\"y\",{\"type\":\"ndarray\",\"array\":{\"type\":\"bytes\",\"data\":\"mpmZmZmZmT80MzMzMzOzPwAAAAAAAMA/Z2ZmZmZmxj/NzMzMzMzMP5qZmZmZmdE/zszMzMzM1D8BAAAAAADYPzQzMzMzM9s/Z2ZmZmZm3j/NzMzMzMzgP2dmZmZmZuI/AQAAAAAA5D+amZmZmZnlPzQzMzMzM+c/zczMzMzM6D9nZmZmZmbqPwEAAAAAAOw/mpmZmZmZ7T80MzMzMzPvPw==\"},\"shape\":[20],\"dtype\":\"float64\",\"order\":\"little\"}]]}}}],[\"source3\",{\"type\":\"object\",\"name\":\"ColumnDataSource\",\"id\":\"p1605\",\"attributes\":{\"selected\":{\"type\":\"object\",\"name\":\"Selection\",\"id\":\"p1607\",\"attributes\":{\"indices\":[],\"line_indices\":[]}},\"selection_policy\":{\"type\":\"object\",\"name\":\"UnionRenderers\",\"id\":\"p1606\"},\"data\":{\"type\":\"map\",\"entries\":[[\"x\",{\"type\":\"ndarray\",\"array\":{\"type\":\"bytes\",\"data\":\"vZE3gHyQHcCIcDiXDcsdwJKGTxX12h3A2p6NSeHjHcDWJkhuBukdwEfGVwO87B3AboDDXUXvHcCxvjWZW/EdwHG0dM7o8h3AnK/paSz0HcAB+3GLPPUdwN/eSihu9h3AYtLcjGT3HcB8jn4wI/gdwCahBxyJ+B3AKahCCOb4HcAk4tLz3vgdwCW6ZMnJ+B3AnGUxinv4HcB5KFZyx/cdwA==\"},\"shape\":[20],\"dtype\":\"float64\",\"order\":\"little\"}],[\"y\",{\"type\":\"ndarray\",\"array\":{\"type\":\"bytes\",\"data\":\"mpmZmZmZmT80MzMzMzOzPwAAAAAAAMA/Z2ZmZmZmxj/NzMzMzMzMP5qZmZmZmdE/zszMzMzM1D8BAAAAAADYPzQzMzMzM9s/Z2ZmZmZm3j/NzMzMzMzgP2dmZmZmZuI/AQAAAAAA5D+amZmZmZnlPzQzMzMzM+c/zczMzMzM6D9nZmZmZmbqPwEAAAAAAOw/mpmZmZmZ7T80MzMzMzPvPw==\"},\"shape\":[20],\"dtype\":\"float64\",\"order\":\"little\"}]]}}}],[\"source4\",{\"type\":\"object\",\"name\":\"ColumnDataSource\",\"id\":\"p1608\",\"attributes\":{\"selected\":{\"type\":\"object\",\"name\":\"Selection\",\"id\":\"p1610\",\"attributes\":{\"indices\":[],\"line_indices\":[]}},\"selection_policy\":{\"type\":\"object\",\"name\":\"UnionRenderers\",\"id\":\"p1609\"},\"data\":{\"type\":\"map\",\"entries\":[[\"x\",{\"type\":\"ndarray\",\"array\":{\"type\":\"bytes\",\"data\":\"Q27If4NvHsB4j8do8jQewG55sOoKJR7AJmFyth4cHsAq2beR+RYewLk5qPxDEx7Akn88oroQHsBPQcpmpA4ewI9LizEXDR7AZFAWltMLHsD/BI50wwoewCEhtdeRCR7Ani0jc5sIHsCEcYHP3AcewNpe+ON2Bx7A11e99xkHHsDcHS0MIQcewNtFmzY2Bx7AZJrOdYQHHsCH16mNOAgewA==\"},\"shape\":[20],\"dtype\":\"float64\",\"order\":\"little\"}],[\"y\",{\"type\":\"ndarray\",\"array\":{\"type\":\"bytes\",\"data\":\"mpmZmZmZmT80MzMzMzOzPwAAAAAAAMA/Z2ZmZmZmxj/NzMzMzMzMP5qZmZmZmdE/zszMzMzM1D8BAAAAAADYPzQzMzMzM9s/Z2ZmZmZm3j/NzMzMzMzgP2dmZmZmZuI/AQAAAAAA5D+amZmZmZnlPzQzMzMzM+c/zczMzMzM6D9nZmZmZmbqPwEAAAAAAOw/mpmZmZmZ7T80MzMzMzPvPw==\"},\"shape\":[20],\"dtype\":\"float64\",\"order\":\"little\"}]]}}}],[\"x_all\",[[{\"type\":\"ndarray\",\"array\":{\"type\":\"bytes\",\"data\":\"DtaA23mI4z+erz4A1mW0PwpD8fdZQ6k/+U0KjsyDoj+giLtsINGdP998HQh+tpg/mtlirUq7lD9GSpSZQdmRP0i85oOLZY4/YtzWUIU1iz8JXvxZN+SIP+h1QDDlNYc/x5rCfwZghj+7q4eS37CFP4e3CSbYUoU/JjuY6QKahT9uIM024gaFP2b/YDMqDoY/3VrXuUMVhT9USFrpqoCAPw==\"},\"shape\":[20],\"dtype\":\"float64\",\"order\":\"little\"},{\"type\":\"ndarray\",\"array\":{\"type\":\"bytes\",\"data\":\"bDpR94ts0T9e1Vy+wIvAP/nkS67SJrc/dLd8BzKTsT+vdM8l9resP7gnSNL7FKg/93afy0rppD+XotF8gE2iP3NyHu79XKA/FvrIN/eQnT+efAxjo+iaP2/S0kSb7Jc/owvy15+ElT/wyZvDBqiTPx8h7ew5qZI/n5hbWevAkT91pcpwntKRP9ejLoSIB5I/u/mBhCbLkj9N0JooYo2UPw==\"},\"shape\":[20],\"dtype\":\"float64\",\"order\":\"little\"}],[{\"type\":\"ndarray\",\"array\":{\"type\":\"bytes\",\"data\":\"K8qZ+/M14T82tzdU5SKwP+BMhjTa0qQ/KrG7htWPnz+rrT571TSaPzrjRcmzTZY/lLIgAANekz8x+stS15iRP/rs6VhL1Y8/mIoCu1K3jj83ABcxpUyNP9E9QEOAYY0/smcrN2eUjT80N9zyt6yOP9OjriNxlpA/JzJATRz7kT+8oe2ADV2UP+IEqrwGKpg/euJW0rdEnz/upVVt2XWoPw==\"},\"shape\":[20],\"dtype\":\"float64\",\"order\":\"little\"},{\"type\":\"ndarray\",\"array\":{\"type\":\"bytes\",\"data\":\"Pzdm3AAF1T/6ShdO97m6Pxe9NIxiAbI/6i1HniJqqz+KtZZhAkOmP1cLOIjN1qI/L+lBSRR9oD/aQdKqSnKdP7loUdnLtJo/Bj32RuW5mD/gwRqMYa6WP61fC34CvpU/7acqSHCYlD/5nR9xqZCUPxcZhs2So5Q/C40AKud4lT9qvD0EZSmXP93gwM7pz5k/Fk7pBxG0nz+r7WHmFMCoPw==\"},\"shape\":[20],\"dtype\":\"float64\",\"order\":\"little\"}],[{\"type\":\"ndarray\",\"array\":{\"type\":\"bytes\",\"data\":\"A8zH75Tu5D/6tNb/rp2kP/kNrU3D3Zk/nV/GbbpKkz/R0/1h6AWQP72M7bKu+os/FjtZfOIPiT/mbGYgZd+GP7Pv8IxFTIQ/xeit16fXgj8kBVYEuHmCP/SmaT+NQIM/UcT2hdgXgz8hZgrBrd6DP9JTO+3SxIQ/ItYQWADWhj8mlcqDOgCJP386+K18PZA/I4Z4qd1tlz+QUJlD2Xq0Pw==\"},\"shape\":[20],\"dtype\":\"float64\",\"order\":\"little\"},{\"type\":\"ndarray\",\"array\":{\"type\":\"bytes\",\"data\":\"22JgrPDEzD+TyPhf4hStPz6Ttu/MEKM/+FZMpz9WnT8zaAWrAUKYP0+FeuWIrJU/sj+JO2i0kz9oG7k/f2iSPwGi8L1lNpI/nU+PeSKDkT99c2ATYe6RP2jzbOhttJI/Y31SFrAClD/jNcju9piVP+nznAD2jZc/8ph3lUBhmz8zO+prb8igP2yaEbEu8qY/v5R7vmf/sT+xz4KkFb3QPw==\"},\"shape\":[20],\"dtype\":\"float64\",\"order\":\"little\"}],[{\"type\":\"ndarray\",\"array\":{\"type\":\"bytes\",\"data\":\"s8qslvtG6T8mfR9hSkSgPxRNUOQFIZQ/grH4J/g5jT9ctDIqx7yIP/z7bKODLIM/pLiJrf0Agj/umoav1Hd+P1EPMqbzUHs/JKRrUOCLeD/YecFhaIp2P6Og+rNyfXU/b8czBn1wdD/KtU+rLn52P1y0MirHvHg/tIPdnBIqeD8BroeLiit6P4m8bb1PKoA/tIPdnBIqiD/u4JAKntGhPw==\"},\"shape\":[20],\"dtype\":\"float64\",\"order\":\"little\"},{\"type\":\"ndarray\",\"array\":{\"type\":\"bytes\",\"data\":\"ZbGvaDOszT8KXQZeZW+vPx4UXrBr6KU/vZU0a0U3oT/IhTG4GHedP7D6sTV5o5s/g8mHIYO9mT9LfyQGf62YP+kiCAnrV5g/zWCIWlpglz9kIjOCqQSXPxqLMknSYZk/VQyWkMeVmT+i/KM9IriaP0YwleACBp0/TUxq/TzrnT8fDx8JaPyhP+noa8fNeKc/rW2/jC6CsD8JqE9gMrXGPw==\"},\"shape\":[20],\"dtype\":\"float64\",\"order\":\"little\"}],[{\"type\":\"ndarray\",\"array\":{\"type\":\"bytes\",\"data\":\"UaL9cKxy6j/M7WaEgWmbP4g9nEybs44/Z51RDvSlhT/k2dD9/meAP9sqsd5G5Xw/eO12rccsej+WiJwQ0ut0PwvHuwk4Gnc/02gasKsZdD+iIt2r9TRwP/eleU0qVXE/TF0ercGFbz/MxuB1N51xP9u7ExMzhXE/1nTM2pancz99qugAxql0P5HLKr3Tbno/Gm2uz0bxgT/WdMzalqejPw==\"},\"shape\":[20],\"dtype\":\"float64\",\"order\":\"little\"},{\"type\":\"ndarray\",\"array\":{\"type\":\"bytes\",\"data\":\"T+G7NEsU2j9oy2RsjLGwPyjstlHgOaU/ufo3JgywoD8alDTekL2bP1u7+bUGyZg/IVf/xoQBlj8Vo7rMLzCUP2H7F9R/KZM/etnL44trkz8dux4iBkyTP8+X/ZJx25I/hD+giyHikz8LujlaH9aTP3MJf0t/45U/uJGPusJUlz8mgw7mlt6bP0H4fb+Eh6A/BpTRNe3epj9yk1QwHUS5Pw==\"},\"shape\":[20],\"dtype\":\"float64\",\"order\":\"little\"}]]],[\"day_value\",[-7.5,2.5,32.5,62.5,102.5]]]},\"code\":\"\\n    var data1 = source1.data;\\n    var data2 = source2.data;\\n    var data3 = source3.data;\\n    var data4 = source4.data;\\n    var f = cb_obj.value;\\n\\n    var x1 = data1['x'];\\n    var y1 = data1['y'];\\n    var x2 = data2['x'];\\n    var y2 = data2['y'];\\n    var x3 = data3['x'];\\n    var y3 = data3['y'];\\n    var x4 = data4['x'];\\n    var y4 = data4['y'];\\n    var x_all0 = x_all[f][0];\\n    var x_all1 = x_all[f][1];\\n    \\n\\n    for (var i = 0; i < x1.length; i++) {\\n        x1[i] = day_value[f] + 0.4 * x_all0[i];\\n        x2[i] = day_value[f] - 0.4 * x_all0[i];\\n        x3[i] = day_value[f] + 0.4 * x_all1[i];\\n        x4[i] = day_value[f] - 0.4 * x_all1[i];\\n    }\\n\\n    source1.change.emit();\\n    source2.change.emit();\\n    source3.change.emit();\\n    source4.change.emit();\\n\"}}]]]},\"title\":\"Time Index\",\"start\":0,\"end\":4,\"value\":0}},{\"type\":\"object\",\"name\":\"Row\",\"id\":\"p1745\",\"attributes\":{\"children\":[{\"type\":\"object\",\"name\":\"Figure\",\"id\":\"p1611\",\"attributes\":{\"x_range\":{\"type\":\"object\",\"name\":\"DataRange1d\",\"id\":\"p1612\"},\"y_range\":{\"type\":\"object\",\"name\":\"DataRange1d\",\"id\":\"p1613\"},\"x_scale\":{\"type\":\"object\",\"name\":\"LinearScale\",\"id\":\"p1625\"},\"y_scale\":{\"type\":\"object\",\"name\":\"LinearScale\",\"id\":\"p1627\"},\"title\":{\"type\":\"object\",\"name\":\"Title\",\"id\":\"p1614\",\"attributes\":{\"text\":\"True Class: Ia\"}},\"renderers\":[{\"type\":\"object\",\"name\":\"GlyphRenderer\",\"id\":\"p1664\",\"attributes\":{\"data_source\":{\"id\":\"p1599\"},\"view\":{\"type\":\"object\",\"name\":\"CDSView\",\"id\":\"p1665\",\"attributes\":{\"filter\":{\"type\":\"object\",\"name\":\"AllIndices\",\"id\":\"p1666\"}}},\"glyph\":{\"type\":\"object\",\"name\":\"Line\",\"id\":\"p1661\",\"attributes\":{\"x\":{\"type\":\"field\",\"field\":\"x\"},\"y\":{\"type\":\"field\",\"field\":\"y\"},\"line_color\":\"#1f77b4\",\"line_width\":2}},\"nonselection_glyph\":{\"type\":\"object\",\"name\":\"Line\",\"id\":\"p1662\",\"attributes\":{\"x\":{\"type\":\"field\",\"field\":\"x\"},\"y\":{\"type\":\"field\",\"field\":\"y\"},\"line_color\":\"#1f77b4\",\"line_alpha\":0.1,\"line_width\":2}},\"muted_glyph\":{\"type\":\"object\",\"name\":\"Line\",\"id\":\"p1663\",\"attributes\":{\"x\":{\"type\":\"field\",\"field\":\"x\"},\"y\":{\"type\":\"field\",\"field\":\"y\"},\"line_color\":\"#1f77b4\",\"line_alpha\":0.2,\"line_width\":2}}}},{\"type\":\"object\",\"name\":\"GlyphRenderer\",\"id\":\"p1675\",\"attributes\":{\"data_source\":{\"id\":\"p1602\"},\"view\":{\"type\":\"object\",\"name\":\"CDSView\",\"id\":\"p1676\",\"attributes\":{\"filter\":{\"type\":\"object\",\"name\":\"AllIndices\",\"id\":\"p1677\"}}},\"glyph\":{\"type\":\"object\",\"name\":\"Line\",\"id\":\"p1672\",\"attributes\":{\"x\":{\"type\":\"field\",\"field\":\"x\"},\"y\":{\"type\":\"field\",\"field\":\"y\"},\"line_color\":\"#1f77b4\",\"line_width\":2}},\"nonselection_glyph\":{\"type\":\"object\",\"name\":\"Line\",\"id\":\"p1673\",\"attributes\":{\"x\":{\"type\":\"field\",\"field\":\"x\"},\"y\":{\"type\":\"field\",\"field\":\"y\"},\"line_color\":\"#1f77b4\",\"line_alpha\":0.1,\"line_width\":2}},\"muted_glyph\":{\"type\":\"object\",\"name\":\"Line\",\"id\":\"p1674\",\"attributes\":{\"x\":{\"type\":\"field\",\"field\":\"x\"},\"y\":{\"type\":\"field\",\"field\":\"y\"},\"line_color\":\"#1f77b4\",\"line_alpha\":0.2,\"line_width\":2}}}}],\"toolbar\":{\"type\":\"object\",\"name\":\"Toolbar\",\"id\":\"p1619\",\"attributes\":{\"tools\":[{\"type\":\"object\",\"name\":\"PanTool\",\"id\":\"p1643\"},{\"type\":\"object\",\"name\":\"WheelZoomTool\",\"id\":\"p1644\"},{\"type\":\"object\",\"name\":\"BoxZoomTool\",\"id\":\"p1645\",\"attributes\":{\"overlay\":{\"type\":\"object\",\"name\":\"BoxAnnotation\",\"id\":\"p1646\",\"attributes\":{\"syncable\":false,\"level\":\"overlay\",\"visible\":false,\"left_units\":\"canvas\",\"right_units\":\"canvas\",\"bottom_units\":\"canvas\",\"top_units\":\"canvas\",\"line_color\":\"black\",\"line_alpha\":1.0,\"line_width\":2,\"line_dash\":[4,4],\"fill_color\":\"lightgrey\",\"fill_alpha\":0.5}}}},{\"type\":\"object\",\"name\":\"SaveTool\",\"id\":\"p1647\"},{\"type\":\"object\",\"name\":\"ResetTool\",\"id\":\"p1648\"},{\"type\":\"object\",\"name\":\"HelpTool\",\"id\":\"p1649\"}]}},\"left\":[{\"type\":\"object\",\"name\":\"LinearAxis\",\"id\":\"p1636\",\"attributes\":{\"ticker\":{\"type\":\"object\",\"name\":\"BasicTicker\",\"id\":\"p1637\",\"attributes\":{\"mantissas\":[1,2,5]}},\"formatter\":{\"type\":\"object\",\"name\":\"BasicTickFormatter\",\"id\":\"p1638\"},\"axis_label\":\"Probability\",\"major_label_policy\":{\"type\":\"object\",\"name\":\"AllLabels\",\"id\":\"p1639\"}}}],\"below\":[{\"type\":\"object\",\"name\":\"LinearAxis\",\"id\":\"p1629\",\"attributes\":{\"ticker\":{\"type\":\"object\",\"name\":\"BasicTicker\",\"id\":\"p1630\",\"attributes\":{\"mantissas\":[1,2,5]}},\"formatter\":{\"type\":\"object\",\"name\":\"BasicTickFormatter\",\"id\":\"p1631\"},\"axis_label\":\"days\",\"major_label_policy\":{\"type\":\"object\",\"name\":\"AllLabels\",\"id\":\"p1632\"}}}],\"center\":[{\"type\":\"object\",\"name\":\"Grid\",\"id\":\"p1635\",\"attributes\":{\"axis\":{\"id\":\"p1629\"}}},{\"type\":\"object\",\"name\":\"Grid\",\"id\":\"p1642\",\"attributes\":{\"dimension\":1,\"axis\":{\"id\":\"p1636\"}}},{\"type\":\"object\",\"name\":\"Legend\",\"id\":\"p1667\",\"attributes\":{\"items\":[{\"type\":\"object\",\"name\":\"LegendItem\",\"id\":\"p1668\",\"attributes\":{\"label\":{\"type\":\"value\",\"value\":\"class\"},\"renderers\":[{\"id\":\"p1664\"},{\"id\":\"p1675\"}]}}]}}]}},{\"type\":\"object\",\"name\":\"Figure\",\"id\":\"p1678\",\"attributes\":{\"x_range\":{\"id\":\"p1612\"},\"y_range\":{\"id\":\"p1613\"},\"x_scale\":{\"type\":\"object\",\"name\":\"LinearScale\",\"id\":\"p1690\"},\"y_scale\":{\"type\":\"object\",\"name\":\"LinearScale\",\"id\":\"p1692\"},\"title\":{\"type\":\"object\",\"name\":\"Title\",\"id\":\"p1681\",\"attributes\":{\"text\":\"Confusion Class: II\"}},\"renderers\":[{\"type\":\"object\",\"name\":\"GlyphRenderer\",\"id\":\"p1729\",\"attributes\":{\"data_source\":{\"id\":\"p1605\"},\"view\":{\"type\":\"object\",\"name\":\"CDSView\",\"id\":\"p1730\",\"attributes\":{\"filter\":{\"type\":\"object\",\"name\":\"AllIndices\",\"id\":\"p1731\"}}},\"glyph\":{\"type\":\"object\",\"name\":\"Line\",\"id\":\"p1726\",\"attributes\":{\"x\":{\"type\":\"field\",\"field\":\"x\"},\"y\":{\"type\":\"field\",\"field\":\"y\"},\"line_color\":\"#c02942\",\"line_width\":2}},\"nonselection_glyph\":{\"type\":\"object\",\"name\":\"Line\",\"id\":\"p1727\",\"attributes\":{\"x\":{\"type\":\"field\",\"field\":\"x\"},\"y\":{\"type\":\"field\",\"field\":\"y\"},\"line_color\":\"#c02942\",\"line_alpha\":0.1,\"line_width\":2}},\"muted_glyph\":{\"type\":\"object\",\"name\":\"Line\",\"id\":\"p1728\",\"attributes\":{\"x\":{\"type\":\"field\",\"field\":\"x\"},\"y\":{\"type\":\"field\",\"field\":\"y\"},\"line_color\":\"#c02942\",\"line_alpha\":0.2,\"line_width\":2}}}},{\"type\":\"object\",\"name\":\"GlyphRenderer\",\"id\":\"p1740\",\"attributes\":{\"data_source\":{\"id\":\"p1608\"},\"view\":{\"type\":\"object\",\"name\":\"CDSView\",\"id\":\"p1741\",\"attributes\":{\"filter\":{\"type\":\"object\",\"name\":\"AllIndices\",\"id\":\"p1742\"}}},\"glyph\":{\"type\":\"object\",\"name\":\"Line\",\"id\":\"p1737\",\"attributes\":{\"x\":{\"type\":\"field\",\"field\":\"x\"},\"y\":{\"type\":\"field\",\"field\":\"y\"},\"line_color\":\"#c02942\",\"line_width\":2}},\"nonselection_glyph\":{\"type\":\"object\",\"name\":\"Line\",\"id\":\"p1738\",\"attributes\":{\"x\":{\"type\":\"field\",\"field\":\"x\"},\"y\":{\"type\":\"field\",\"field\":\"y\"},\"line_color\":\"#c02942\",\"line_alpha\":0.1,\"line_width\":2}},\"muted_glyph\":{\"type\":\"object\",\"name\":\"Line\",\"id\":\"p1739\",\"attributes\":{\"x\":{\"type\":\"field\",\"field\":\"x\"},\"y\":{\"type\":\"field\",\"field\":\"y\"},\"line_color\":\"#c02942\",\"line_alpha\":0.2,\"line_width\":2}}}}],\"toolbar\":{\"type\":\"object\",\"name\":\"Toolbar\",\"id\":\"p1686\",\"attributes\":{\"tools\":[{\"type\":\"object\",\"name\":\"PanTool\",\"id\":\"p1708\"},{\"type\":\"object\",\"name\":\"WheelZoomTool\",\"id\":\"p1709\"},{\"type\":\"object\",\"name\":\"BoxZoomTool\",\"id\":\"p1710\",\"attributes\":{\"overlay\":{\"type\":\"object\",\"name\":\"BoxAnnotation\",\"id\":\"p1711\",\"attributes\":{\"syncable\":false,\"level\":\"overlay\",\"visible\":false,\"left_units\":\"canvas\",\"right_units\":\"canvas\",\"bottom_units\":\"canvas\",\"top_units\":\"canvas\",\"line_color\":\"black\",\"line_alpha\":1.0,\"line_width\":2,\"line_dash\":[4,4],\"fill_color\":\"lightgrey\",\"fill_alpha\":0.5}}}},{\"type\":\"object\",\"name\":\"SaveTool\",\"id\":\"p1712\"},{\"type\":\"object\",\"name\":\"ResetTool\",\"id\":\"p1713\"},{\"type\":\"object\",\"name\":\"HelpTool\",\"id\":\"p1714\"}]}},\"left\":[{\"type\":\"object\",\"name\":\"LinearAxis\",\"id\":\"p1701\",\"attributes\":{\"ticker\":{\"type\":\"object\",\"name\":\"BasicTicker\",\"id\":\"p1702\",\"attributes\":{\"mantissas\":[1,2,5]}},\"formatter\":{\"type\":\"object\",\"name\":\"BasicTickFormatter\",\"id\":\"p1703\"},\"axis_label\":\"Probability\",\"major_label_policy\":{\"type\":\"object\",\"name\":\"AllLabels\",\"id\":\"p1704\"}}}],\"below\":[{\"type\":\"object\",\"name\":\"LinearAxis\",\"id\":\"p1694\",\"attributes\":{\"ticker\":{\"type\":\"object\",\"name\":\"BasicTicker\",\"id\":\"p1695\",\"attributes\":{\"mantissas\":[1,2,5]}},\"formatter\":{\"type\":\"object\",\"name\":\"BasicTickFormatter\",\"id\":\"p1696\"},\"axis_label\":\"days\",\"major_label_policy\":{\"type\":\"object\",\"name\":\"AllLabels\",\"id\":\"p1697\"}}}],\"center\":[{\"type\":\"object\",\"name\":\"Grid\",\"id\":\"p1700\",\"attributes\":{\"axis\":{\"id\":\"p1694\"}}},{\"type\":\"object\",\"name\":\"Grid\",\"id\":\"p1707\",\"attributes\":{\"dimension\":1,\"axis\":{\"id\":\"p1701\"}}},{\"type\":\"object\",\"name\":\"Legend\",\"id\":\"p1732\",\"attributes\":{\"items\":[{\"type\":\"object\",\"name\":\"LegendItem\",\"id\":\"p1733\",\"attributes\":{\"label\":{\"type\":\"value\",\"value\":\"class\"},\"renderers\":[{\"id\":\"p1729\"},{\"id\":\"p1740\"}]}}]}}]}}]}}]}}],\"callbacks\":{\"type\":\"map\"}}};\n",
       "  const render_items = [{\"docid\":\"ab749f06-54c6-4a4e-9c5f-71c13edba684\",\"roots\":{\"p1746\":\"600e5e39-5ff7-43f7-a111-d3361e6273e7\"},\"root_ids\":[\"p1746\"]}];\n",
       "  root.Bokeh.embed.embed_items_notebook(docs_json, render_items);\n",
       "  }\n",
       "  if (root.Bokeh !== undefined) {\n",
       "    embed_document(root);\n",
       "  } else {\n",
       "    let attempts = 0;\n",
       "    const timer = setInterval(function(root) {\n",
       "      if (root.Bokeh !== undefined) {\n",
       "        clearInterval(timer);\n",
       "        embed_document(root);\n",
       "      } else {\n",
       "        attempts++;\n",
       "        if (attempts > 100) {\n",
       "          clearInterval(timer);\n",
       "          console.log(\"Bokeh: ERROR: Unable to run BokehJS code because BokehJS library is missing\");\n",
       "        }\n",
       "      }\n",
       "    }, 10, root)\n",
       "  }\n",
       "})(window);"
      ],
      "application/vnd.bokehjs_exec.v0+json": ""
     },
     "metadata": {
      "application/vnd.bokehjs_exec.v0+json": {
       "id": "p1746"
      }
     },
     "output_type": "display_data"
    }
   ],
   "source": [
    "day_value = [emq.tbin_val(i) for i in tbinstodo]\n",
    "data1 = {'x': day_value[0] + 0.4 * x_all[0][0], 'y': thist['prob']}\n",
    "data2 = {'x': day_value[0] - 0.4 * x_all[0][0], 'y': thist['prob']}\n",
    "data3 = {'x': day_value[0] + 0.4 * x_all[0][1], 'y': thist['prob']}\n",
    "data4 = {'x': day_value[0] - 0.4 * x_all[0][1], 'y': thist['prob']}\n",
    "source1 = ColumnDataSource(data=data1)\n",
    "source2 = ColumnDataSource(data=data2)\n",
    "source3 = ColumnDataSource(data=data3)\n",
    "source4 = ColumnDataSource(data=data4)\n",
    "\n",
    "p1 = figure(title=\"True Class: Ia\", x_axis_label='days', y_axis_label='Probability')\n",
    "p1.line('x', 'y', source=source1, legend_label=\"class\", line_width=2)\n",
    "p1.line('x', 'y', source=source2, legend_label=\"class\", line_width=2)\n",
    "\n",
    "p2 = figure(title=\"Confusion Class: II\", x_axis_label='days', y_axis_label='Probability',\n",
    "            x_range=p1.x_range, y_range=p1.y_range)\n",
    "p2.line('x', 'y', source=source3, legend_label=\"class\", line_width=2, color=\"#c02942\")\n",
    "p2.line('x', 'y', source=source4, legend_label=\"class\", line_width=2, color=\"#c02942\")\n",
    "\n",
    "callback = CustomJS(args=dict(source1=source1, source2=source2, source3=source3, source4=source4, x_all=x_all, day_value=day_value), code=\"\"\"\n",
    "    var data1 = source1.data;\n",
    "    var data2 = source2.data;\n",
    "    var data3 = source3.data;\n",
    "    var data4 = source4.data;\n",
    "    var f = cb_obj.value;\n",
    "\n",
    "    var x1 = data1['x'];\n",
    "    var y1 = data1['y'];\n",
    "    var x2 = data2['x'];\n",
    "    var y2 = data2['y'];\n",
    "    var x3 = data3['x'];\n",
    "    var y3 = data3['y'];\n",
    "    var x4 = data4['x'];\n",
    "    var y4 = data4['y'];\n",
    "    var x_all0 = x_all[f][0];\n",
    "    var x_all1 = x_all[f][1];\n",
    "    \n",
    "\n",
    "    for (var i = 0; i < x1.length; i++) {\n",
    "        x1[i] = day_value[f] + 0.4 * x_all0[i];\n",
    "        x2[i] = day_value[f] - 0.4 * x_all0[i];\n",
    "        x3[i] = day_value[f] + 0.4 * x_all1[i];\n",
    "        x4[i] = day_value[f] - 0.4 * x_all1[i];\n",
    "    }\n",
    "\n",
    "    source1.change.emit();\n",
    "    source2.change.emit();\n",
    "    source3.change.emit();\n",
    "    source4.change.emit();\n",
    "\"\"\")\n",
    "\n",
    "\n",
    "slider = Slider(start=0, end=4, value=0, step=1, title=\"Time Index\")\n",
    "slider.js_on_change('value', callback)\n",
    "\n",
    "layout = column(slider, row(p1, p2))\n",
    "output_file(filename='/epyc/users/joseph02/public_html/elasticc_interactive_vio_plot.html')\n",
    "save(layout)\n",
    "#show(layout)"
   ]
  },
  {
   "cell_type": "markdown",
   "id": "d696e0e9-a44d-4fa1-8587-769bd45eae64",
   "metadata": {},
   "source": [
    "## Next Steps"
   ]
  },
  {
   "cell_type": "markdown",
   "id": "47662fa7-02ab-48b2-b1b2-c01400473b91",
   "metadata": {},
   "source": [
    "The ability to display both the true and confusion classes next to each other is helpful when looking at probabilities for specific time bins. Unfortunately, the manual violin plots make it difficult to discern samll differences in data. To improve the visualiztion, we propose the implementation of a stacked-bar plot using Bokeh's `hbar_stack`. "
   ]
  },
  {
   "cell_type": "markdown",
   "id": "902e460c-6bd6-4dc3-a80f-2eee29422c2c",
   "metadata": {},
   "source": [
    "Adding more confusion classes and interactivity that allows for the selection of various classes could also be helpful."
   ]
  }
 ],
 "metadata": {
  "kernelspec": {
   "display_name": "Python 3-ML_Base",
   "language": "python",
   "name": "python3-ml-base"
  },
  "language_info": {
   "codemirror_mode": {
    "name": "ipython",
    "version": 3
   },
   "file_extension": ".py",
   "mimetype": "text/x-python",
   "name": "python",
   "nbconvert_exporter": "python",
   "pygments_lexer": "ipython3",
   "version": "3.11.3"
  }
 },
 "nbformat": 4,
 "nbformat_minor": 5
}
